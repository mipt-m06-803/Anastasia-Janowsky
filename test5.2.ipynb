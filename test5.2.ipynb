{
 "cells": [
  {
   "cell_type": "markdown",
   "metadata": {},
   "source": [
    "# <font color=blue>Тест 5.2</font>\n",
    "\n",
    "<font color=red>Время написания: 30 мин</font>"
   ]
  },
  {
   "cell_type": "markdown",
   "metadata": {},
   "source": [
    "# Задача 1. Упражнения на генераторы списков\n",
    "\n",
    "1. Получите список, в котором будут квадратные корни из элементов списка `L`.\n",
    "\n",
    "2. Получите список, в котором будут только квадратные корни из элементов списка `L`, являющихся квадратами целых чисел.\n",
    "\n",
    "Программы ничего не получают на вход и ничего не печатают. \n",
    "\n",
    "### Критерии\n",
    "\n",
    "За правильную реализацию каждого из генераторов присуждается 1 балл. \n",
    "\n",
    "**Решения должны укладываться в одну строчку** (без учета команды уже присутствующего кода)."
   ]
  },
  {
   "cell_type": "code",
   "execution_count": 4,
   "metadata": {},
   "outputs": [
    {
     "name": "stdout",
     "output_type": "stream",
     "text": [
      "[90, 35, 3, 21, 44, 98, 80, 87, 55, 88, 49, 87, 4, 29, 96, 50, 54, 98, 4, 37, 20, 65, 8, 34, 12, 78, 75, 5, 19, 20, 69, 1, 57, 28, 73, 54, 87, 38, 37, 9, 20, 58, 30, 20, 38, 43, 84, 42, 25, 14, 91, 42, 58, 28, 100, 6, 94, 63, 37, 73, 65, 82, 48, 19, 93, 13, 67, 98, 59, 35, 18, 23, 8, 91, 77, 81, 2, 73, 55, 21, 79, 31, 45, 84, 26, 24, 99, 84, 72, 83, 41, 37, 43, 67, 86, 23, 23, 62, 78, 76]\n",
      "[9.486832980505138, 5.916079783099616, 1.7320508075688772, 4.58257569495584, 6.6332495807108, 9.899494936611665, 8.94427190999916, 9.327379053088816, 7.416198487095663, 9.38083151964686, 7.0, 9.327379053088816, 2.0, 5.385164807134504, 9.797958971132712, 7.0710678118654755, 7.3484692283495345, 9.899494936611665, 2.0, 6.082762530298219, 4.47213595499958, 8.06225774829855, 2.8284271247461903, 5.830951894845301, 3.4641016151377544, 8.831760866327848, 8.660254037844387, 2.23606797749979, 4.358898943540674, 4.47213595499958, 8.306623862918075, 1.0, 7.54983443527075, 5.291502622129181, 8.54400374531753, 7.3484692283495345, 9.327379053088816, 6.164414002968976, 6.082762530298219, 3.0, 4.47213595499958, 7.615773105863909, 5.477225575051661, 4.47213595499958, 6.164414002968976, 6.557438524302, 9.16515138991168, 6.48074069840786, 5.0, 3.7416573867739413, 9.539392014169456, 6.48074069840786, 7.615773105863909, 5.291502622129181, 10.0, 2.449489742783178, 9.695359714832659, 7.937253933193772, 6.082762530298219, 8.54400374531753, 8.06225774829855, 9.055385138137417, 6.928203230275509, 4.358898943540674, 9.643650760992955, 3.605551275463989, 8.18535277187245, 9.899494936611665, 7.681145747868608, 5.916079783099616, 4.242640687119285, 4.795831523312719, 2.8284271247461903, 9.539392014169456, 8.774964387392123, 9.0, 1.4142135623730951, 8.54400374531753, 7.416198487095663, 4.58257569495584, 8.888194417315589, 5.5677643628300215, 6.708203932499369, 9.16515138991168, 5.0990195135927845, 4.898979485566356, 9.9498743710662, 9.16515138991168, 8.48528137423857, 9.1104335791443, 6.4031242374328485, 6.082762530298219, 6.557438524302, 8.18535277187245, 9.273618495495704, 4.795831523312719, 4.795831523312719, 7.874007874011811, 8.831760866327848, 8.717797887081348]\n",
      "[7.0, 2.0, 2.0, 1.0, 3.0, 5.0, 10.0, 9.0]\n"
     ]
    }
   ],
   "source": [
    "import random\n",
    "L = [random.randint(0, 100) for _ in range(100)]\n",
    "l1 = [L[i]**0.5 for i in range(len(L))]\n",
    "l2 = [L[i]**0.5 for i in range(len(L)) if L[i]%L[i]**0.5 == 0]"
   ]
  },
  {
   "cell_type": "markdown",
   "metadata": {},
   "source": [
    "# Задача 2. Упражнение на генератор словарей\n",
    "\n",
    "Из приведенного в следующей клетке списка строк `L` создайте словарь, ключами которого будут строки  из списка `L`, а значениями - эти строки записанные в обратном порядке. \n",
    "\n",
    "Программа ничего не получает на вход и ничего не печатает.\n",
    "\n",
    "### Критерии\n",
    "\n",
    "За правильную реализацию генератора словаря присуждается 1 балл. **Решение должно укладываться в одну строчку**."
   ]
  },
  {
   "cell_type": "code",
   "execution_count": 3,
   "metadata": {},
   "outputs": [
    {
     "name": "stdout",
     "output_type": "stream",
     "text": [
      "['ypysmmvdorugb', 'xb', '', 'vecxwkizpyxnwobhbgo', 'fjekyi', 'gyyjheqif{{plhajxg{j', 's', 'tndbpq{dxrwcisvhdbgv', 'pnfkssgemx', 'vez{bqwe', 'qmqdpdahiyayhm{j', 'fcszjylijtmbjgnt', 'b', 'lrinw', 'mpzbtwtnwcckv', 'yulvhgywin', '', 'hjoxhcidxupgvv', 'xethfltpk', 'tzv', 'emfphwm', 'ffr', 'salj{{qexvow{hgeuqd', 'lvl{quxvkgmudvnvdgl', 'yu{ssadl', 'kbjaayhysvnefxxllg', 'makklkkupilteikrx', 'iqaqs{ekzhap{ymmzl', 'tn{ffyabpqwmj', 'rllfkdc{{fzusysksknk', 'tbj{jpobhntqnstjobqz', 'kf{ovecjtrqdggngmfep', 'lwermk{sotbmxqqcmvn', 'ruh', 'zzyivjpilw']\n",
      "{'ypysmmvdorugb': 'bgurodvmmsypy', 'xb': 'bx', '': '', 'vecxwkizpyxnwobhbgo': 'ogbhbownxypzikwxcev', 'fjekyi': 'iykejf', 'gyyjheqif{{plhajxg{j': 'j{gxjahlp{{fiqehjyyg', 's': 's', 'tndbpq{dxrwcisvhdbgv': 'vgbdhvsicwrxd{qpbdnt', 'pnfkssgemx': 'xmegsskfnp', 'vez{bqwe': 'ewqb{zev', 'qmqdpdahiyayhm{j': 'j{mhyayihadpdqmq', 'fcszjylijtmbjgnt': 'tngjbmtjilyjzscf', 'b': 'b', 'lrinw': 'wnirl', 'mpzbtwtnwcckv': 'vkccwntwtbzpm', 'yulvhgywin': 'niwyghvluy', 'hjoxhcidxupgvv': 'vvgpuxdichxojh', 'xethfltpk': 'kptlfhtex', 'tzv': 'vzt', 'emfphwm': 'mwhpfme', 'ffr': 'rff', 'salj{{qexvow{hgeuqd': 'dquegh{wovxeq{{jlas', 'lvl{quxvkgmudvnvdgl': 'lgdvnvdumgkvxuq{lvl', 'yu{ssadl': 'ldass{uy', 'kbjaayhysvnefxxllg': 'gllxxfenvsyhyaajbk', 'makklkkupilteikrx': 'xrkietlipukklkkam', 'iqaqs{ekzhap{ymmzl': 'lzmmy{pahzke{sqaqi', 'tn{ffyabpqwmj': 'jmwqpbayff{nt', 'rllfkdc{{fzusysksknk': 'knksksysuzf{{cdkfllr', 'tbj{jpobhntqnstjobqz': 'zqbojtsnqtnhbopj{jbt', 'kf{ovecjtrqdggngmfep': 'pefmgnggdqrtjcevo{fk', 'lwermk{sotbmxqqcmvn': 'nvmcqqxmbtos{kmrewl', 'ruh': 'hur', 'zzyivjpilw': 'wlipjviyzz'}\n"
     ]
    }
   ],
   "source": [
    "from random import randint as rnt\n",
    "L = [''.join([chr(ord('a') + rnt(0, 26)) for _ in range(rnt(0, 20))]) for _ in range(rnt(0, 100))]\n",
    "d = {L[i]: L[i][::-1] for i in range(len(L))}"
   ]
  },
  {
   "cell_type": "markdown",
   "metadata": {},
   "source": [
    "# Задача 3. Упражнение на множественное присваивание\n",
    "\n",
    "1. Осуществите циклический сдвиг списка `L` вправо на одну позицию с помощью множественного присваивания.\n",
    "\n",
    "2. Распакуйте объект `Obj` в переменные `a`, `b`, `c`, `d` с помощью одного множественного присваивания.\n",
    "\n",
    "| <font size=3>Список `L` до циклического сдвига</font> | <font size=3>Список `L` после циклического сдвига</font> |\n",
    "| :---: | :---: |\n",
    "| <font size=3 color=green>`[0, 1, 2, 3]`</font> | <font size=3 color=green>`[3, 0, 1, 2]`</font> |\n",
    "\n",
    "| <font size=3>Объект `Obj`</font> | <font size=3>Значения `a`, `b`, `c`, `d` после распаковки</font> |\n",
    "| :---: | :---: |\n",
    "| <font size=3 color=green>`[[0, 1], [2, 3]]`</font> | <font size=3 color=green>`a = 0`<br>`b = 1`<br>`c = 2`<br>`d = 3`</font> |\n",
    "\n",
    "При решении необязательно что-то считывать с клавиатуры или выводить на экран.\n",
    "\n",
    "### Критерии\n",
    "\n",
    "За правильную реализацию каждого из пунктов присуждается 1 балл. **Оба решения должны укладываться в одну строчку.**"
   ]
  },
  {
   "cell_type": "code",
   "execution_count": 6,
   "metadata": {},
   "outputs": [
    {
     "name": "stdout",
     "output_type": "stream",
     "text": [
      "0 1 2 3\n"
     ]
    }
   ],
   "source": [
    "L = [0, 1, 2, 3]\n",
    "Obj = [[0, 1], [2, 3]]\n",
    "L[0], L[1], L[2], L[3] = L[3], L[0], L[1], L[2]\n",
    "a, b, c, d = Obj[0][0], Obj[0][1], Obj[1][0], Obj[1][1]"
   ]
  },
  {
   "cell_type": "markdown",
   "metadata": {},
   "source": [
    "# Задача 4. Небоскребы\n",
    "\n",
    "На улице вплотную друг к другу расположено N небоскребов различной высоты. Высота небоскребa может принимать целые неотрицательные значения (в т.ч. 0). Ширина каждого небоскреба равна 1.\n",
    "\n",
    "Рекламодатель хочет повесить на стенах небоскребов одно прямоугольное объявление и при этом хочет, чтобы площадь этого объявления была максимальной. Необходимо найти максимальную площадь такого объявления и его высоту.\n",
    "\n",
    "Высоты небоскребов подаются в строке через пробел.\n",
    "\n",
    "\n",
    "| <font size=3>Входные данные</font> | <font size=3>Выходные данные</font> |\n",
    "| :--- | :--- |\n",
    "| <font size=3>1 1 0 2 3 2 6</font> | <font size=3>8 2</font> |\n",
    "\n",
    "### Критерии\n",
    "| <font size=3>баллы</font> | <font size=3>критерий</font> |\n",
    "| :---: | :---: |\n",
    "| <font size=3>0</font> | <font size=3>решение содержит ошибку</font> |\n",
    "| <font size=3>3</font> | <font size=3>решение верно</font> |"
   ]
  },
  {
   "cell_type": "code",
   "execution_count": null,
   "metadata": {
    "collapsed": true
   },
   "outputs": [],
   "source": []
  },
  {
   "cell_type": "markdown",
   "metadata": {},
   "source": [
    "#  Задача 5. Двоичная система счисления\n",
    "\n",
    "Реализуйте сложение двух чисел $n$ и $m$ в двоичной системе счисления без использования встроенных инструментов Python. Разрешается складывать числа для подсчета количества цифр при обработке разряда. **Запрещается преобразовывать строки со складываемыми числами к типу `int`. Слагаемые $m$ и $n$ должны обрабатываться, как строки.**\n",
    "\n",
    "Поданные на вход числа не должны переводиться в целый тип. Запрещается использовать целые числа для хранения переносимого разряда.\n",
    "\n",
    "| <font size=3>Входные данные</font> | <font size=3>Выходные данные</font> |\n",
    "| :--- | :--- |\n",
    "| <font size=3>111 0</font> | <font size=3>111</font> |\n",
    "| <font size=3>10 111</font> | <font size=3>1001</font> |\n",
    "\n",
    "### Критерии\n",
    "| <font size=3>баллы</font> | <font size=3>критерий</font> |\n",
    "| :---: | :---: |\n",
    "| <font size=3>0</font> | <font size=3>решение содержит ошибку</font> |\n",
    "| <font size=3>4</font> | <font size=3>решение верно</font> |"
   ]
  },
  {
   "cell_type": "code",
   "execution_count": null,
   "metadata": {
    "collapsed": true
   },
   "outputs": [],
   "source": [
    "s = input().split()\n",
    "n, m = s[0], s[1]\n",
    "d = {'0+0': '0', '1+0': '1', '0+1': '1', '1+1': '10'}\n"
   ]
  }
 ],
 "metadata": {
  "kernelspec": {
   "display_name": "Python 3",
   "language": "python",
   "name": "python3"
  },
  "language_info": {
   "codemirror_mode": {
    "name": "ipython",
    "version": 3
   },
   "file_extension": ".py",
   "mimetype": "text/x-python",
   "name": "python",
   "nbconvert_exporter": "python",
   "pygments_lexer": "ipython3",
   "version": "3.7.0"
  }
 },
 "nbformat": 4,
 "nbformat_minor": 2
}
