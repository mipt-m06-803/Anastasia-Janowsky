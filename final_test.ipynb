{
 "cells": [
  {
   "cell_type": "markdown",
   "metadata": {
    "collapsed": true
   },
   "source": [
    "# Итоговый тест\n",
    "\n",
    "| <font size=3>№</font> | <font size=3>Название задачи</font> | <font size=3>Общее число баллов за решение</font> | <font size=3>Оценка времени на решение</font> |\n",
    "| :---: | :---: | :---: | :---: |\n",
    "| <font size=3>1</font> | <font size=3>Ферзь</font> | <font size=3> 1 </font> | 5 мин |\n",
    "| <font size=3>2</font> | <font size=3>Поматрица</font> | <font size=3> 1 </font> | 10 мин |\n",
    "| <font size=3>3</font> | <font size=3>Сортировка</font> | <font size=3> 1 </font> | 5 мин |\n",
    "| <font size=3>4</font> | <font size=3>Добавление элементов в словарь</font> | <font size=3> 1 </font> | 5 мин |\n",
    "| <font size=3>5</font> | <font size=3>Подсчет символов</font> | <font size=3> 2 </font> | 15 мин |\n",
    "| <font size=3>6</font> | <font size=3>Калькулятор множеств</font> | <font size=3> 2 </font> | 20 мин |\n",
    "| <font size=3>7</font> | <font size=3>Средняя траектория</font> | <font size=3> 2 </font> | 25 мин |\n",
    "| <font size=3>8</font> | <font size=3>Удаление комментариев</font> | <font size=3> 4 </font> | 35 мин |\n",
    "| <font size=3>9</font> | <font size=3>Максимальное частное</font> | <font size=3> 5,2 </font> | 50 мин |\n",
    "| <font size=3>10</font> | <font size=3>Числа Фибоначчи</font> | <font size=3> 1 </font> | 5 мин |\n",
    "| <font size=3>ВСЕГО</font> | <font size=3>&nbsp;</font> | <font size=3> 20.2 </font> | 2 ч 55 мин |\n",
    "\n",
    "# <font color=blue> Задача 1. Ферзь</font>\n",
    "\n",
    "Шахматный ферзь перемещается на любое количество клеток по горизонтали, вертикали или диагонали. Даны две различные клетки шахматной доски, определите, может ли ферзь попасть с первой клетки на вторую одним ходом. Программа получает на вход четыре числа в одной строке от 1 до 8 каждое, задающие номер столбца и номер строки сначала для первой клетки, потом для второй клетки. Программа должна вывести YES, если из первой клетки ходом ферзя можно попасть во вторую или NO в противном случае.\n",
    "\n",
    "Для простоты можно не рассматривать случай, когда данные клетки совпадают.\n",
    "\n",
    "### Примеры работы программы\n",
    "\n",
    "| <font size=3>Входные данные</font> | <font size=3>Выходные данные</font> |\n",
    "| :---: | :---: |\n",
    "| <font size=3>1 1 8 8</font> | <font size=3>YES</font> |\n",
    "| <font size=3>1 1 2 3</font> | <font size=3>NO</font> |\n",
    "| <font size=3>4 4 2 2</font> | <font size=3>YES</font> |\n",
    "| <font size=3>4 4 1 4</font> | <font size=3>YES</font> |\n",
    "| <font size=3>4 4 4 1</font> | <font size=3>YES</font> |\n",
    "| <font size=3>5 5 7 5</font> | <font size=3>YES</font> |\n",
    "| <font size=3>5 5 4 3</font> | <font size=3>NO</font> |\n",
    "\n",
    "### Критерии\n",
    "\n",
    "За правильное решение начисляется 1 балл"
   ]
  },
  {
   "cell_type": "code",
   "execution_count": 7,
   "metadata": {},
   "outputs": [
    {
     "name": "stdout",
     "output_type": "stream",
     "text": [
      "5 5 4 3\n",
      "NO\n"
     ]
    }
   ],
   "source": [
    "n = input().split()\n",
    "x1, y1, x2, y2 = int(n[0]), int(n[1]), int(n[2]), int(n[3])\n",
    "if abs(x2-x1) == abs(y2-y1) or x2 == x1 or y2 ==y1:\n",
    "    print('YES')\n",
    "else:\n",
    "    print('NO')"
   ]
  },
  {
   "cell_type": "markdown",
   "metadata": {},
   "source": [
    "# <font color=blue>Задача 2. Подматрица</font>\n",
    "\n",
    "Получите из матрицы $A$ матрицу $B$ путем удаления $i$-й строки и $j$-го столбца (индексация строк и столбцов начинается с нуля, как двумерных массивах Python). Матрица $A$ записана в файле <font color=green face=\"Courier\" size=3>ex2_A.txt</font>. Запишите подматрицу $B$ в файл <font color=green face=\"Courier\" size=3>ex2_B.txt</font>, разделяя числа в строках одной табуляцией.\n",
    "\n",
    "На вход подаются числа $i$, $j$, разделенные пробелами. Проверку принадлежности $i$ и $j$ границам массива можно не выполнять.\n",
    "\n",
    "### Пример работы программы\n",
    "\n",
    "| <font size=3>Путь к файлу с матрицей <font color=red face=\"Monaco\" size=3>A</font></font> | <font size=3>Входные данные</font> | <font size=3>Путь к файлу с матрицей <font color=red face=\"Monaco\" size=3>B</font></font> |\n",
    "| :---: | :---: | :---: |\n",
    "| <font size=3>python-biocad/files/final/ex2_A.txt</font> | <font size=3>1 3</font> | <font size=3>python-biocad/files/final/ex2_B.txt</font> | \n",
    "\n",
    "### Критерии\n",
    "\n",
    "За правильное решение начисляется 1 балл\n",
    "\n",
    "### Команды для скачивания файлов\n",
    "\n",
    "```bash\n",
    "wget https://raw.githubusercontent.com/mipt-cs/python-biocad/master/files/final/ex2_A.txt\n",
    "wget https://raw.githubusercontent.com/mipt-cs/python-biocad/master/files/final/ex2_B.txt\n",
    "```"
   ]
  },
  {
   "cell_type": "code",
   "execution_count": 28,
   "metadata": {},
   "outputs": [
    {
     "name": "stdout",
     "output_type": "stream",
     "text": [
      "[['0', '1', '2', '3', '4', '5\\n'], ['5', '6', '7', '8', '9', '10\\n'], ['10', '11', '12', '13', '14', '15\\n'], ['15', '16', '17', '18', '19', '20\\n'], ['20', '21', '22', '23', '24', '25\\n']]\n",
      "1 3\n"
     ]
    }
   ],
   "source": [
    "A = []\n",
    "with open('ex2_A.txt', 'r') as file:\n",
    "    for line in file:\n",
    "        l = line.split('\\t')\n",
    "        A.append(l)    \n",
    "    \n",
    "s = input().split()\n",
    "i, j = int(s[0]), int(s[1])\n",
    "\n",
    "del A[i]\n",
    "\n",
    "def transpose(l):\n",
    "    z = zip(*l)\n",
    "    lT = [list(t) for t in zip(*l)]\n",
    "    return lT\n",
    "\n",
    "AT = transpose(A)\n",
    "\n",
    "del AT[j]\n",
    "\n",
    "AT = transpose(AT)\n",
    "\n",
    "with open('ex2_B.txt', 'w') as file:\n",
    "    for row in AT:\n",
    "        file.write('\\t'.join(row))"
   ]
  },
  {
   "cell_type": "markdown",
   "metadata": {},
   "source": [
    "# <font color=blue> Задача 3. Сортировка</font>\n",
    "\n",
    "В словаре $D$ содержатся элементы, ключами которых являются строки, а значениями списки. Распечатайте элементы словаря $D[k]$ в порядке уменьшения числа элементов в списках $D[k]$.\n",
    "\n",
    "### Указания\n",
    "\n",
    "1. Примените функцию `sorted()` с именованным аргументом `key`.\n",
    "\n",
    "2. Используйте анонимную функцию.\n",
    "\n",
    "### Пример выходных данных\n",
    "\n",
    "| <font size=3>Выходные данные</font> |\n",
    "| :--- |\n",
    "| <font face=\"Courier\" size=3>XNYDs [2, 5, 7, 8, 3, 5, 1, 3, 1, 3, 7, 7, 1, 7, 6, 10, 4, 0, 1]<br>KhPAE [6, 4, 5, 10, 5, 6, 4, 2, 9, 6, 1, 8, 5, 9, 6, 8, 9, 9]<br>Cjzav [0, 10, 0, 2, 7, 1, 8, 5, 10, 10, 7, 3, 8, 8]<br>UnycV [6, 8, 10, 0, 3, 6, 2, 5, 8, 9, 8]<br>XTVNa [1, 6, 7, 5, 6, 9, 10, 10]<br>kGily [2, 6, 9, 1, 2, 6, 3]<br>bNqZk [7, 7, 8, 1, 8]<br>zmhCB [0, 7, 3, 9]<br>IvXYK [5, 3, 2, 1]<br>zCQBk [8, 0, 5]</font>| \n",
    "\n",
    "### Критерии\n",
    "\n",
    "За правильное решение с применением функции `sorted()` и анонимной функции начисляется 1 балл.\n",
    "<font color=red>3 мин</font>"
   ]
  },
  {
   "cell_type": "code",
   "execution_count": 50,
   "metadata": {},
   "outputs": [
    {
     "name": "stdout",
     "output_type": "stream",
     "text": [
      "jZyrd [4, 1, 8, 2, 2, 5, 0, 7, 4, 5, 4, 3, 9, 6, 9, 5, 0, 3, 2, 5]\n",
      "arZEI [9, 8, 5, 0, 10, 9, 6, 1, 9, 0, 8, 1]\n",
      "DxcwG [0, 5, 6, 5, 10, 2, 5, 3, 9, 3, 3]\n",
      "wPQGy [9, 1, 2, 8, 5, 5, 7, 3, 0, 5, 0]\n",
      "RvTEX [3, 1, 1, 5, 10, 3, 7, 3, 9]\n",
      "Fsmbc [6, 8, 9, 3, 10, 1, 9, 0, 6]\n",
      "Jafzo [4, 9, 7, 4, 3, 6, 1]\n",
      "EkQFf [10, 3, 4, 6, 2, 8]\n",
      "XZfwi [8, 0, 3, 1]\n",
      "oIbOc [7, 5, 2, 8]\n"
     ]
    }
   ],
   "source": [
    "import random\n",
    "import string\n",
    "letters = string.ascii_letters\n",
    "\n",
    "D = {}\n",
    "while len(D) < 10:\n",
    "    D[''.join(random.sample(letters, 5))] = [random.randint(0, 10) for _ in range(random.randint(0, 20))]\n",
    "\n",
    "D = sorted(D.items(), key = lambda kv: len(kv[1]), reverse=True)\n",
    "\n",
    "Dk = {D[i][0]: D[i][1] for i in range(len(D))}\n",
    "for k, v in Dk.items():\n",
    "    print(k, v)"
   ]
  },
  {
   "cell_type": "markdown",
   "metadata": {},
   "source": [
    "# <font color=blue>Задача 4. Добавление элементов в словарь</font>\n",
    "\n",
    "Для каждой пары ключ-значение $k$, $v$ словаря $D$ добавьте словарь \"обратный\" элемент, у которого ключом будет $v$, а значением - $k$. Если элемент с ключом $v$ уже есть в словаре, то элемент не надо добавлять.\n",
    "\n",
    "В словаре $D$ ключами  и значениями являются строки, не содержащие пробелов.\n",
    "\n",
    "Инициализируйте словарь $D$ с клавиатуры, считывая с клавиатуры пары   ключ-значение $k$, $v$ (ключи и значения отделяются друг от друга пробелом).\n",
    "\n",
    "Распечатайте словарь после добавления \"обратных\" элементов. Каждая пара ключ-значение должна оказаться в отдельной строке. Ключ и значение должны быть разделены пробелом.\n",
    "\n",
    "### Примеры работы программы\n",
    "\n",
    "Иногда возможны несколько вариантов выходных данных.\n",
    "\n",
    "| <font size=3>Входные данные</font> | <font size=3>Выходные данные 1 вариант</font> | <font size=3>Выходные данные 2 вариант</font> |\n",
    "| :---: | :---: | :---: |\n",
    "| <font size=3>a b<br>c d<br>STOP</font> | <font size=3>a b<br>c d<br>b a<br>d c</font> | &nbsp; |\n",
    "| <font size=3>a b<br>c b<br>STOP</font> | <font size=3>a b<br>c b<br>b a</font> | <font size=3>a b<br>c b<br>b c</font> |\n",
    "| <font size=3>a b<br>c a<br>STOP</font> | <font size=3>a b<br>c a<br>b a</font> | <font size=3>a c<br>c a<br>b a</font> |\n",
    "\n",
    "### Критерии\n",
    "\n",
    "За правильное решение начисляется 1 балл.\n",
    "\n",
    "<font color=red>7 мин</font>"
   ]
  },
  {
   "cell_type": "code",
   "execution_count": 68,
   "metadata": {},
   "outputs": [
    {
     "name": "stdout",
     "output_type": "stream",
     "text": [
      "A B\n",
      "C A\n",
      "STOP\n",
      "A B\n",
      "C A\n",
      "B A\n"
     ]
    }
   ],
   "source": [
    "S = input()\n",
    "d1 = {}\n",
    "while S!= 'STOP':\n",
    "    s = S.split()\n",
    "    d1[s[0]] = s[1]\n",
    "    S = input()\n",
    "l = list(d1.items())\n",
    "for k, v in l:\n",
    "    k, v = v, k\n",
    "    if k not in d1.keys():\n",
    "        d1[k] = v\n",
    "for k, v in d1.items():\n",
    "    print(k, v)"
   ]
  },
  {
   "cell_type": "markdown",
   "metadata": {},
   "source": [
    "# <font color=blue>Задача 5. Подсчет символов</font>\n",
    "\n",
    "Посчитайте число уникальных символов в тексте <font color=green face=\"Courier\" size=3>final_ex5_inp.txt</font> и запишите их в файл <font color=green face=\"Courier\" size=3>final_ex5_out.txt</font> в порядке убывания встречаемости вместе с числом экземпляров каждого символа (символ от числа повторений отделяется **табуляцией**).\n",
    "\n",
    "При записи используйте встроенную функцию `repr()` для того, чтобы корректно и понятно отображались пробел и специальные символы:\n",
    "```python\n",
    "char = '\\n'\n",
    "assert repr(char) == \"'\\n'\"\n",
    "```\n",
    "\n",
    "Используя средства Python, выполните следующие действия.\n",
    "\n",
    "1. Поместите файл <font color=green face=\"Courier\" size=3>final_ex5_out.txt</font> в директорию <font color=green face=\"Courier\" size=3>dir</font>. \n",
    "\n",
    "2. Если папка <font color=green face=\"Courier\" size=3>dir</font> не существует, создайте ее.\n",
    "\n",
    "3. Если папка <font color=green face=\"Courier\" size=3>dir</font> существует, то добейтесь, чтобы в ней после завершения программы был только файл <font color=green face=\"Courier\" size=3>final_ex5_out.txt</font>\n",
    "\n",
    "### Указания\n",
    "\n",
    "В решении подсчет символов должен быть реализован явно, т.е. без использования специальных инструментов, например класса `collections.Counter`.\n",
    "\n",
    "### Пример работы программы\n",
    "\n",
    "| <font size=3>Путь к входному файлу</font> | <font size=3>Путь выходному файлу</font> |\n",
    "| :---: | :---: |\n",
    "| <font size=3>python-biocad/files/final/final_ex5_inp.txt</font> | <font size=3>python-biocad/files/final/final_ex5_out.txt</font> | \n",
    "\n",
    "### Критерии\n",
    "\n",
    "1. За получение файла <font color=green face=\"Courier\" size=3>final_ex5_out.txt</font> с правильными результатами присуждается 1 балл.\n",
    "\n",
    "2. За полное выполнение задач, связанных с папкой <font color=green face=\"Courier\" size=3>dir</font> и помещением туда файла <font color=green face=\"Courier\" size=3>final_ex5_out.txt</font>, начисляется еще один балл.\n",
    "\n",
    "### Команды для скачивания файлов\n",
    "\n",
    "```bash\n",
    "wget https://raw.githubusercontent.com/mipt-cs/python-biocad/master/files/final/final_ex5_inp.txt\n",
    "wget https://raw.githubusercontent.com/mipt-cs/python-biocad/master/files/final/final_ex5_out.txt\n",
    "```"
   ]
  },
  {
   "cell_type": "code",
   "execution_count": 120,
   "metadata": {},
   "outputs": [
    {
     "name": "stdout",
     "output_type": "stream",
     "text": [
      "  4087\n",
      "о 817\n",
      "е 599\n",
      "и 492\n",
      "т 477\n",
      "а 448\n",
      "н 433\n",
      "с 308\n",
      "в 294\n",
      "р 269\n",
      "м 246\n",
      "к 244\n",
      "д 219\n",
      "л 210\n",
      "у 207\n",
      "ч 188\n",
      ", 188\n",
      ". 169\n",
      "п 162\n",
      "ь 126\n",
      "г 124\n",
      "ы 115\n",
      "я 115\n",
      "з 111\n",
      "б 108\n",
      "й 76\n",
      "ж 70\n",
      "х 59\n",
      "ш 47\n",
      "ю 46\n",
      "А 40\n",
      "\n",
      " 37\n",
      ": 27\n",
      "э 24\n",
      "! 22\n",
      "Г 19\n",
      "- 19\n",
      "Ф 17\n",
      "— 17\n",
      "щ 16\n",
      "Л 15\n",
      "В 14\n",
      "? 13\n",
      "Я 12\n",
      "Н 12\n",
      "И 11\n",
      "Д 11\n",
      "« 10\n",
      "» 10\n",
      "Б 9\n",
      "ц 9\n",
      "О 9\n",
      "К 8\n",
      "Т 7\n",
      "; 7\n",
      "Х 7\n",
      "Ч 6\n",
      "З 6\n",
      "( 5\n",
      ") 5\n",
      "Э 5\n",
      "С 4\n",
      "М 3\n",
      "ъ 3\n",
      "ф 3\n",
      "Р 2\n",
      "П 2\n",
      "Е 2\n",
      "﻿ 1\n",
      "У 1\n",
      "ё 1\n"
     ]
    }
   ],
   "source": [
    "D = {}\n",
    "L = list(D.keys())\n",
    "cnt = 0\n",
    "with open('final_ex5_inp.txt', 'r', encoding='utf-8') as f:\n",
    "    for l in f:\n",
    "        for i in range(len(l)):\n",
    "            ch = l[i]\n",
    "            if ch not in L:\n",
    "                D[ch] = 1\n",
    "                L = list(D.keys())\n",
    "            else:\n",
    "                D[ch] += 1\n",
    "d = sorted(D.items(), key = lambda kv: kv[1], reverse=True)\n",
    "\n",
    "Dk = {d[i][0]: d[i][1] for i in range(len(d))}\n",
    "for k, v in Dk.items():\n",
    "    print(k, v)\n",
    "                \n",
    "import os\n",
    "import shutil\n",
    "\n",
    "if os.path.exists('dir'):\n",
    "    shutil.rmtree('dir')\n",
    "    os.mkdir('dir')\n",
    "else:\n",
    "    os.mkdir('dir')\n",
    "os.chdir('dir')\n",
    "\n",
    "with open('final_ex5_out.txt', 'w', encoding='utf-8') as f:\n",
    "    for k, v in Dk.items():\n",
    "        f.write('{}\\t{}\\n'.format(repr(k), repr(v)))"
   ]
  },
  {
   "cell_type": "code",
   "execution_count": 119,
   "metadata": {},
   "outputs": [
    {
     "name": "stdout",
     "output_type": "stream",
     "text": [
      "C:\\Users\\Anastasia\\Anastasia-Janowsky\\tests\n"
     ]
    }
   ],
   "source": [
    "import os\n",
    "os.chdir(r'C:\\Users\\Anastasia\\Anastasia-Janowsky\\tests')\n",
    "print(os.getcwd())"
   ]
  },
  {
   "cell_type": "markdown",
   "metadata": {},
   "source": [
    "# <font color=blue>Задача 6. Калькулятор множеств</font>\n",
    "\n",
    "Выполните операции над поданными на вход множествами целых чисел.\n",
    "\n",
    "В первой строке подается первое множество, а в следующих строках подаются символ оператора и затем после пробела элементы множества в фигурных скобках. Элементы множества отделяются друг от друга запятыми без пробелов.\n",
    "\n",
    "Операции выполняются последовательно, то есть к результат $i$-й операции является левым операндом $(i+1)$-й операции.\n",
    "\n",
    "#### Обозначения:\n",
    "\n",
    "| <font size=3>Символ</font> | <font size=3>Операция</font> |\n",
    "| :---: | :---: |\n",
    "| <font size=3>&amp;</font> | <font size=3>Пересечение</font> |\n",
    "| <font size=3>&vert;</font> | <font size=3>Объединение</font> |\n",
    "| <font size=3>-</font> | <font size=3>Разность</font> |\n",
    "| <font size=3>^</font> | <font size=3>Симметричная разность</font> |\n",
    "\n",
    "На вход может быть подано пустое множество в виде фигурных скобок `{}`.\n",
    "\n",
    "Распечатайте полученное в программе множество в том же формате, в котором множества подаются на вход.\n",
    "\n",
    "#### Примеры:\n",
    "\n",
    "| <font size=3>вход</font> | <font size=3>выход</font> |&nbsp;&nbsp;&nbsp;&nbsp;&nbsp;&nbsp;&nbsp;&nbsp;&nbsp;&nbsp;&nbsp;&nbsp;&nbsp;&nbsp;&nbsp;&nbsp;| <font size=3>вход</font> | <font size=3>выход</font> | &nbsp;&nbsp;&nbsp;&nbsp;&nbsp;&nbsp;&nbsp;&nbsp;&nbsp;&nbsp;&nbsp;&nbsp;&nbsp;&nbsp;&nbsp;&nbsp;| <font size=3>вход</font> | <font size=3>выход</font> |&nbsp;&nbsp;&nbsp;&nbsp;&nbsp;&nbsp;&nbsp;&nbsp;&nbsp;&nbsp;&nbsp;&nbsp;&nbsp;&nbsp;&nbsp;&nbsp;| <font size=3>вход</font> | <font size=3>выход</font> |\n",
    "| :---: | :---: |:---:| :---: | :---: | :---: | :---: | :---: |:---:| :---: | :---: |\n",
    "| <font size=3>{1,2,3}<br>&amp; {2,3,4}<br>STOP</font> | <font size=3>{2,3}</font> |&nbsp;| <font size=3>{1,2,3}<br>&vert; {2,3,4}<br>STOP</font> | <font size=3>{1,2,3,4}</font> |&nbsp;| <font size=3>{1,2,3}<br>- {2,3,4}<br>STOP</font> | <font size=3>{1}</font> |&nbsp;| <font size=3>{1,2,3}<br>^ {2,3,4}<br>STOP</font> | <font size=3>{1,4}</font> |\n",
    "| <font size=3>{1,2,3}<br>&amp; {2,3,4}<br>&amp; {2,4,5}<br>STOP</font> | <font size=3>{2}</font> |&nbsp;| <font size=3>{1,2,3}<br>&amp; {2,3,4}<br>&vert; {5}<br>STOP</font> | <font size=3>{2,3,5}</font> |&nbsp;| <font size=3>{1,2,3}<br>&amp; {2,3,4}<br>&vert; {}<br>STOP</font> | <font size=3>{2,3}</font> |&nbsp;| <font size=3>{2,3,4}<br>&amp; {}<br>STOP</font> | <font size=3>{}</font> |\n",
    "\n",
    "### Критерии\n",
    "\n",
    "1. За полное, безошибочное решение задачи начисляются 2 балла\n",
    "\n",
    "<font color=red>20 мин</font>"
   ]
  },
  {
   "cell_type": "code",
   "execution_count": null,
   "metadata": {},
   "outputs": [],
   "source": []
  },
  {
   "cell_type": "markdown",
   "metadata": {},
   "source": [
    "# <font color=blue>Задача 7. Средняя траектория</font>\n",
    "\n",
    "В файлах <font color=green face=\"Courier\" size=3>&lt;num&gt;.txt</font> координаты точек 100 траекторий частиц. Вычислите среднюю траекторию и запишите в файл <font color=green face=\"Courier\" size=3>ex7_out.txt</font>.\n",
    "\n",
    "### Пример работы программы\n",
    "\n",
    "| <font size=3>Путь к входному файлу</font> | <font size=3>Путь выходному файлу</font> |\n",
    "| :---: | :---: |\n",
    "| <font size=3>python-biocad/files/final/ex7/&lt;num&gt;.txt</font> | <font size=3>python-biocad/files/final/ex7_out.txt</font> | \n",
    "\n",
    "### Критерии\n",
    "\n",
    "1. За полное, безошибочное решение задачи начисляются 2 балла\n",
    "\n",
    "### Команды для скачивания файлов\n",
    "\n",
    "#### UNIX\n",
    "\n",
    "```bash\n",
    "mkdir ex7\n",
    "for num in {0..99}\n",
    "do\n",
    "    wget https://raw.githubusercontent.com/mipt-cs/python-biocad/master/files/final/ex7/${num}.txt -O ex7/${num}.txt\n",
    "done\n",
    "ls -1 ex7 | wc -l  # посчитать содержимое ex7\n",
    "```\n",
    "\n",
    "#### Windows cmd.exe\n",
    "\n",
    "```\n",
    "mkdir ex7\n",
    "for /L %v in (0,1,99) do ( \n",
    "    wget https://raw.githubusercontent.com/mipt-cs/python-biocad/master/files/final/ex7/%v.txt -O ex7/%v.txt\n",
    ")\n",
    "set count=0\n",
    "for %x in (ex7\\*) do (set /a count+=1 >nul)\n",
    "echo %count%\n",
    "```"
   ]
  },
  {
   "cell_type": "code",
   "execution_count": null,
   "metadata": {},
   "outputs": [],
   "source": [
    "            "
   ]
  },
  {
   "cell_type": "markdown",
   "metadata": {},
   "source": [
    "# <font color=blue>Задача 8. Удаление комментариев</font>\n",
    "\n",
    "Комментарий в Паскаль-программе - это последовательность символов, которая начинается `\"(*\"`, заканчивается `\"*)\"` и не содержит `\"*)\"` внутри. Прочитать файл с Паскаль-программой <font color=green face=\"Courier\" size=3>final_ex8_inp.pas</font>, удалить в нем комментарии и вывести в файл <font color=green face=\"Courier\" size=3>final_ex8_out.pas</font>. Разбиение нового текста по строкам не имеет значения.\n",
    "\n",
    "### Пример работы программы\n",
    "\n",
    "| <font size=3>Путь к входному файлу</font> | <font size=3>Путь выходному файлу</font> |\n",
    "| :---: | :---: |\n",
    "| <font size=3>python-biocad/files/final/final_ex8_inp.pas</font> | <font size=3>python-biocad/files/final/final_ex8_out.pas</font> | \n",
    "\n",
    "### Критерии\n",
    "\n",
    "1. За полное, безошибочное решение задачи начисляются 1 балла\n",
    "\n",
    "2. Дополнительно 3 балла начисляются, если в решении был применен однопроходный алгоритм: по считанному тексту был выполнен 1 проход. Возможен вариант, в котором символы считываются из файла по одному. \n",
    "\n",
    "### Команды для скачивания файлов\n",
    "\n",
    "```bash\n",
    "wget https://raw.githubusercontent.com/mipt-cs/python-biocad/master/files/final/final_ex8_inp.pas\n",
    "wget https://raw.githubusercontent.com/mipt-cs/python-biocad/master/files/final/final_ex8_out.pas\n",
    "```\n"
   ]
  },
  {
   "cell_type": "code",
   "execution_count": null,
   "metadata": {
    "collapsed": true
   },
   "outputs": [],
   "source": [
    "with open('final_ex8_inp.pas', 'r') as f:\n",
    "    "
   ]
  },
  {
   "cell_type": "markdown",
   "metadata": {},
   "source": [
    "# <font color=blue>Задача 9. Максимальное частное</font>\n",
    "\n",
    "На вход подается число $N > 1$, а затем $N$ вещественных чисел: каждое в отдельной строке. Найдите среди введенных чисел два числа, дающих максимальное частное при делении первого на второе. Решите задачу в 1 проход, не сохраняя все введенные числа.\n",
    "\n",
    "На выходе должны быть 2 числа, разделенные пробелом: делимое и делитель. \n",
    "\n",
    "Если есть две различных пары чисел, дающих максимальное частное, то должна быть распечатана та пара, у которой делимое меньше. Если у этих пар чисел одинаковфе делимые, то печатается пара с меньшим делителем.\n",
    "\n",
    "Если из входных данных нельзя сформировать пару чисел, распечатайте `None`.\n",
    "\n",
    "### Примеры работы программы\n",
    "\n",
    "| <font size=3>вход</font> | <font size=3>выход</font> | &nbsp;&nbsp;&nbsp;&nbsp;&nbsp;&nbsp;&nbsp;&nbsp;&nbsp;&nbsp;&nbsp;&nbsp;&nbsp;&nbsp;&nbsp;&nbsp; |  <font size=3>вход</font> | <font size=3>выход</font> | &nbsp;&nbsp;&nbsp;&nbsp;&nbsp;&nbsp;&nbsp;&nbsp;&nbsp;&nbsp;&nbsp;&nbsp;&nbsp;&nbsp;&nbsp;&nbsp; | <font size=3>вход</font> | <font size=3>выход</font> | &nbsp;&nbsp;&nbsp;&nbsp;&nbsp;&nbsp;&nbsp;&nbsp;&nbsp;&nbsp;&nbsp;&nbsp;&nbsp;&nbsp;&nbsp;&nbsp; |  <font size=3>вход</font> | <font size=3>выход</font> |\n",
    "| :---: | :---: | :---:| :---: | :---: | :---: | :---: | :---: | :---:| :---: | :---: |\n",
    "| <font size=3>2<br>0<br>0</font> | <font size=3>None</font> | &nbsp;&nbsp;&nbsp;&nbsp;&nbsp;&nbsp;&nbsp;&nbsp; | <font size=3>2<br>-0.5<br>0</font> | <font size=3>0.0 -0.5</font> |&nbsp;| <font size=3>2<br>-2<br>-1</font> | <font size=3>-2.0 -1.0</font> | &nbsp; | <font size=3>2<br>0<br>1</font> | <font size=3>0.0 1.0</font> |\n",
    "| <font size=3>2<br>2<br>1</font> | <font size=3>2.0 1.0</font> | &nbsp; | <font size=3>2<br>2<br>-1</font> | <font size=3>-1.0 2.0</font> |&nbsp;| <font size=3>2<br>1<br>-2</font> | <font size=3>1.0 -2.0</font> | &nbsp; | <font size=3>2<br>1<br>-1</font> | <font size=3>-1.0 1.0</font> |\n",
    "| <font size=3>3<br>1<br>-1<br>0</font> | <font size=3>0.0 -1.0</font> | &nbsp; | <font size=3>3<br>1<br>-1<br>4</font> | <font size=3>4.0 1.0</font> |&nbsp;| <font size=3>3<br>1<br>-1<br>-4</font> | <font size=3>-4.0 -1.0</font> | &nbsp; | <font size=3>&nbsp;</font> | <font size=3>&nbsp;</font> |\n",
    "| <font size=3>4<br>0.05<br>-0.1<br>-0.4<br>0.3</font> | <font size=3>0.3 0.05</font> | &nbsp; | <font size=3>4<br>-0.05<br>0.1<br>0.4<br>-0.3</font> | <font size=3>-0.3 -0.05</font> |&nbsp;| <font size=3>&nbsp;</font> | <font size=3>&nbsp;</font> | &nbsp; | <font size=3>&nbsp;</font> | <font size=3>&nbsp;</font> |\n",
    "\n",
    "### Критерии\n",
    "\n",
    "1. За правильную работу в случаях, когда среди поданных чисел больше одного положительного **и** больше одного отрицательного (примеры, в которых числа) начисляется 1 балл.\n",
    "\n",
    "2. Если при выполнении пункта 1 алгоритм однопроходный, начисляется еще 1 балл.\n",
    "\n",
    "3. Далее за каждый пройденный тест с 2-мя и 3-мя числами начисляется 0,2 балла.\n",
    "\n",
    "4. Если программа работает полностью правильно, вдобавок к пунктам 1 и 3 начисляется еще 1 балл."
   ]
  },
  {
   "cell_type": "code",
   "execution_count": 73,
   "metadata": {},
   "outputs": [
    {
     "name": "stdout",
     "output_type": "stream",
     "text": [
      "4\n",
      "0.05\n",
      "-0.1\n",
      "-0.4\n",
      "0.3\n",
      "0.3 -0.4\n"
     ]
    }
   ],
   "source": [
    "N = int(input())\n",
    "max_ = float(input())\n",
    "min_ = float(input())\n",
    "if min_ > max_:\n",
    "    max_, min_ = min_, max_\n",
    "for _ in range(N-2):\n",
    "    num = float(input())\n",
    "    if num > max_:\n",
    "            max_, num = num, max_\n",
    "    if num < max_ and num >= 1:\n",
    "        if num < min_:\n",
    "            min_, num = num, min_\n",
    "    else:\n",
    "        \n",
    "if min_ == 0:\n",
    "    print('None')\n",
    "else:\n",
    "    print(max_, min_)"
   ]
  },
  {
   "cell_type": "markdown",
   "metadata": {},
   "source": [
    "# <font color=blue>Задача 10. Числа Фибоначчи</font>\n",
    "\n",
    "Известно, что для чисел Фибоначчи справедливы тождества\n",
    "\n",
    "$$F_{2m} = F_{m+1}^2 - F_{m-1}^2\\\\F_{2m+1} = F_{m+1}^2 + F_m^2$$\n",
    "\n",
    "Реализуйте вычисление $n$-го числа Фибоначчи через рекурсию с использованием этих тождеств.\n",
    "\n",
    "### Критерии\n",
    "\n",
    "1. За правильное решение начисляется 1 балл."
   ]
  },
  {
   "cell_type": "code",
   "execution_count": 80,
   "metadata": {},
   "outputs": [
    {
     "name": "stdout",
     "output_type": "stream",
     "text": [
      "2\n"
     ]
    },
    {
     "ename": "RecursionError",
     "evalue": "maximum recursion depth exceeded in comparison",
     "output_type": "error",
     "traceback": [
      "\u001b[1;31m---------------------------------------------------------------------------\u001b[0m",
      "\u001b[1;31mRecursionError\u001b[0m                            Traceback (most recent call last)",
      "\u001b[1;32m<ipython-input-80-a3e06a143fa6>\u001b[0m in \u001b[0;36m<module>\u001b[1;34m()\u001b[0m\n\u001b[0;32m      9\u001b[0m         \u001b[1;32mreturn\u001b[0m \u001b[0mmath\u001b[0m\u001b[1;33m.\u001b[0m\u001b[0msqrt\u001b[0m\u001b[1;33m(\u001b[0m\u001b[0mF\u001b[0m\u001b[1;33m(\u001b[0m\u001b[1;36m2\u001b[0m\u001b[1;33m*\u001b[0m\u001b[0mn\u001b[0m\u001b[1;33m+\u001b[0m\u001b[1;36m1\u001b[0m\u001b[1;33m)\u001b[0m \u001b[1;33m-\u001b[0m \u001b[1;33m(\u001b[0m\u001b[0mF\u001b[0m\u001b[1;33m(\u001b[0m\u001b[0mn\u001b[0m\u001b[1;33m+\u001b[0m\u001b[1;36m1\u001b[0m\u001b[1;33m)\u001b[0m\u001b[1;33m)\u001b[0m\u001b[1;33m**\u001b[0m\u001b[1;36m2\u001b[0m\u001b[1;33m)\u001b[0m\u001b[1;33m\u001b[0m\u001b[0m\n\u001b[0;32m     10\u001b[0m \u001b[0mn\u001b[0m \u001b[1;33m=\u001b[0m \u001b[0mint\u001b[0m\u001b[1;33m(\u001b[0m\u001b[0minput\u001b[0m\u001b[1;33m(\u001b[0m\u001b[1;33m)\u001b[0m\u001b[1;33m)\u001b[0m\u001b[1;33m\u001b[0m\u001b[0m\n\u001b[1;32m---> 11\u001b[1;33m \u001b[0mF\u001b[0m\u001b[1;33m(\u001b[0m\u001b[0mn\u001b[0m\u001b[1;33m)\u001b[0m\u001b[1;33m\u001b[0m\u001b[0m\n\u001b[0m",
      "\u001b[1;32m<ipython-input-80-a3e06a143fa6>\u001b[0m in \u001b[0;36mF\u001b[1;34m(n)\u001b[0m\n\u001b[0;32m      7\u001b[0m         \u001b[1;32mreturn\u001b[0m \u001b[1;36m1\u001b[0m\u001b[1;33m\u001b[0m\u001b[0m\n\u001b[0;32m      8\u001b[0m     \u001b[1;32mif\u001b[0m \u001b[0mn\u001b[0m \u001b[1;33m>\u001b[0m \u001b[1;36m1\u001b[0m\u001b[1;33m:\u001b[0m\u001b[1;33m\u001b[0m\u001b[0m\n\u001b[1;32m----> 9\u001b[1;33m         \u001b[1;32mreturn\u001b[0m \u001b[0mmath\u001b[0m\u001b[1;33m.\u001b[0m\u001b[0msqrt\u001b[0m\u001b[1;33m(\u001b[0m\u001b[0mF\u001b[0m\u001b[1;33m(\u001b[0m\u001b[1;36m2\u001b[0m\u001b[1;33m*\u001b[0m\u001b[0mn\u001b[0m\u001b[1;33m+\u001b[0m\u001b[1;36m1\u001b[0m\u001b[1;33m)\u001b[0m \u001b[1;33m-\u001b[0m \u001b[1;33m(\u001b[0m\u001b[0mF\u001b[0m\u001b[1;33m(\u001b[0m\u001b[0mn\u001b[0m\u001b[1;33m+\u001b[0m\u001b[1;36m1\u001b[0m\u001b[1;33m)\u001b[0m\u001b[1;33m)\u001b[0m\u001b[1;33m**\u001b[0m\u001b[1;36m2\u001b[0m\u001b[1;33m)\u001b[0m\u001b[1;33m\u001b[0m\u001b[0m\n\u001b[0m\u001b[0;32m     10\u001b[0m \u001b[0mn\u001b[0m \u001b[1;33m=\u001b[0m \u001b[0mint\u001b[0m\u001b[1;33m(\u001b[0m\u001b[0minput\u001b[0m\u001b[1;33m(\u001b[0m\u001b[1;33m)\u001b[0m\u001b[1;33m)\u001b[0m\u001b[1;33m\u001b[0m\u001b[0m\n\u001b[0;32m     11\u001b[0m \u001b[0mF\u001b[0m\u001b[1;33m(\u001b[0m\u001b[0mn\u001b[0m\u001b[1;33m)\u001b[0m\u001b[1;33m\u001b[0m\u001b[0m\n",
      "... last 1 frames repeated, from the frame below ...\n",
      "\u001b[1;32m<ipython-input-80-a3e06a143fa6>\u001b[0m in \u001b[0;36mF\u001b[1;34m(n)\u001b[0m\n\u001b[0;32m      7\u001b[0m         \u001b[1;32mreturn\u001b[0m \u001b[1;36m1\u001b[0m\u001b[1;33m\u001b[0m\u001b[0m\n\u001b[0;32m      8\u001b[0m     \u001b[1;32mif\u001b[0m \u001b[0mn\u001b[0m \u001b[1;33m>\u001b[0m \u001b[1;36m1\u001b[0m\u001b[1;33m:\u001b[0m\u001b[1;33m\u001b[0m\u001b[0m\n\u001b[1;32m----> 9\u001b[1;33m         \u001b[1;32mreturn\u001b[0m \u001b[0mmath\u001b[0m\u001b[1;33m.\u001b[0m\u001b[0msqrt\u001b[0m\u001b[1;33m(\u001b[0m\u001b[0mF\u001b[0m\u001b[1;33m(\u001b[0m\u001b[1;36m2\u001b[0m\u001b[1;33m*\u001b[0m\u001b[0mn\u001b[0m\u001b[1;33m+\u001b[0m\u001b[1;36m1\u001b[0m\u001b[1;33m)\u001b[0m \u001b[1;33m-\u001b[0m \u001b[1;33m(\u001b[0m\u001b[0mF\u001b[0m\u001b[1;33m(\u001b[0m\u001b[0mn\u001b[0m\u001b[1;33m+\u001b[0m\u001b[1;36m1\u001b[0m\u001b[1;33m)\u001b[0m\u001b[1;33m)\u001b[0m\u001b[1;33m**\u001b[0m\u001b[1;36m2\u001b[0m\u001b[1;33m)\u001b[0m\u001b[1;33m\u001b[0m\u001b[0m\n\u001b[0m\u001b[0;32m     10\u001b[0m \u001b[0mn\u001b[0m \u001b[1;33m=\u001b[0m \u001b[0mint\u001b[0m\u001b[1;33m(\u001b[0m\u001b[0minput\u001b[0m\u001b[1;33m(\u001b[0m\u001b[1;33m)\u001b[0m\u001b[1;33m)\u001b[0m\u001b[1;33m\u001b[0m\u001b[0m\n\u001b[0;32m     11\u001b[0m \u001b[0mF\u001b[0m\u001b[1;33m(\u001b[0m\u001b[0mn\u001b[0m\u001b[1;33m)\u001b[0m\u001b[1;33m\u001b[0m\u001b[0m\n",
      "\u001b[1;31mRecursionError\u001b[0m: maximum recursion depth exceeded in comparison"
     ]
    }
   ],
   "source": [
    "import math\n",
    "\n",
    "def F(n):\n",
    "    if n == 0:\n",
    "        return 1\n",
    "    if n == 1:\n",
    "        return 1\n",
    "    if n > 1:\n",
    "        "
   ]
  }
 ],
 "metadata": {
  "kernelspec": {
   "display_name": "Python 3",
   "language": "python",
   "name": "python3"
  },
  "language_info": {
   "codemirror_mode": {
    "name": "ipython",
    "version": 3
   },
   "file_extension": ".py",
   "mimetype": "text/x-python",
   "name": "python",
   "nbconvert_exporter": "python",
   "pygments_lexer": "ipython3",
   "version": "3.7.0"
  }
 },
 "nbformat": 4,
 "nbformat_minor": 2
}
