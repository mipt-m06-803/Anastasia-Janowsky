{
 "cells": [
  {
   "cell_type": "markdown",
   "metadata": {},
   "source": [
    "# Задача 1\n",
    "$\\vec{k}$ - волновой вектор, $\\vec{n}$ - нормаль к плоскости, от которой отражается волна. Напишите программу, вычисляющую координаты вектора после отражения. На вход программе по очереди подаются 2 строки, состоящих из вещественных чисел, разделенных пробелами. Первая строка содержит координаты волнового вектора $\\left\\lbrace k_x, k_y, k_z \\right\\rbrace$, вторая строка - координаты нормали к плоскости $\\left\\lbrace n_x, n_y, n_z \\right\\rbrace$. Программа на выходе должна давать координаты волнового вектора отраженной волны (список из трех вещественных чисел). Реализуйте скалярное произведение векторов, вычитание векторов, умножение вектора на скаляр и отражение вектора от плоскости в отдельных функциях.\n",
    "\n",
    "| <font size=3>входные данные</font> | <font size=3>выходные данные</font> |\n",
    "| :---: | :---: |\n",
    "| <font size=3>1 0 0<br>1 0 0</font> | <font size=3>[-1.0, 0.0, 0.0]</font> |\n",
    "| <font size=3>1 0 0<br>1 1 0</font> | <font size=3>[0.0, -1.0, 0.0]</font> |\n",
    "\n",
    "### Критерии\n",
    "За реализацию процедуры считывания входных данных и за правильную реализацию каждой из функций начисляется по 1 баллу. За применение генераторов списков в функции, умножающей вектор на скаляр, и при считывании данных начисляется еще 1 балл. Максимальное количество баллов за задачу равно 6."
   ]
  },
  {
   "cell_type": "code",
   "execution_count": 1,
   "metadata": {},
   "outputs": [
    {
     "name": "stdout",
     "output_type": "stream",
     "text": [
      "1 1 0\n",
      "0 1 1\n"
     ]
    },
    {
     "ename": "TypeError",
     "evalue": "can't multiply sequence by non-int of type 'str'",
     "output_type": "error",
     "traceback": [
      "\u001b[1;31m---------------------------------------------------------------------------\u001b[0m",
      "\u001b[1;31mTypeError\u001b[0m                                 Traceback (most recent call last)",
      "\u001b[1;32m<ipython-input-1-33981db0bc54>\u001b[0m in \u001b[0;36m<module>\u001b[1;34m()\u001b[0m\n\u001b[0;32m     12\u001b[0m \u001b[0mny\u001b[0m \u001b[1;33m=\u001b[0m \u001b[0ml2\u001b[0m\u001b[1;33m[\u001b[0m\u001b[1;36m1\u001b[0m\u001b[1;33m]\u001b[0m\u001b[1;33m\u001b[0m\u001b[0m\n\u001b[0;32m     13\u001b[0m \u001b[0mnz\u001b[0m \u001b[1;33m=\u001b[0m \u001b[0ml2\u001b[0m\u001b[1;33m[\u001b[0m\u001b[1;36m2\u001b[0m\u001b[1;33m]\u001b[0m\u001b[1;33m\u001b[0m\u001b[0m\n\u001b[1;32m---> 14\u001b[1;33m \u001b[0mskalar\u001b[0m \u001b[1;33m=\u001b[0m \u001b[0mskal\u001b[0m\u001b[1;33m(\u001b[0m\u001b[0mkx\u001b[0m\u001b[1;33m,\u001b[0m \u001b[0mky\u001b[0m\u001b[1;33m,\u001b[0m \u001b[0mkz\u001b[0m\u001b[1;33m,\u001b[0m \u001b[0mnx\u001b[0m\u001b[1;33m,\u001b[0m \u001b[0mny\u001b[0m\u001b[1;33m,\u001b[0m \u001b[0mnz\u001b[0m\u001b[1;33m)\u001b[0m\u001b[1;33m\u001b[0m\u001b[0m\n\u001b[0m",
      "\u001b[1;32m<ipython-input-1-33981db0bc54>\u001b[0m in \u001b[0;36mskal\u001b[1;34m(kx, ky, kz, nx, ny, nz)\u001b[0m\n\u001b[0;32m      1\u001b[0m \u001b[1;32mdef\u001b[0m \u001b[0mskal\u001b[0m\u001b[1;33m(\u001b[0m\u001b[0mkx\u001b[0m\u001b[1;33m,\u001b[0m \u001b[0mky\u001b[0m\u001b[1;33m,\u001b[0m \u001b[0mkz\u001b[0m\u001b[1;33m,\u001b[0m \u001b[0mnx\u001b[0m\u001b[1;33m,\u001b[0m \u001b[0mny\u001b[0m\u001b[1;33m,\u001b[0m \u001b[0mnz\u001b[0m\u001b[1;33m)\u001b[0m\u001b[1;33m:\u001b[0m\u001b[1;33m\u001b[0m\u001b[0m\n\u001b[1;32m----> 2\u001b[1;33m     \u001b[1;32mreturn\u001b[0m \u001b[0mkx\u001b[0m\u001b[1;33m*\u001b[0m\u001b[0mnx\u001b[0m \u001b[1;33m+\u001b[0m \u001b[0mky\u001b[0m\u001b[1;33m*\u001b[0m\u001b[0mny\u001b[0m \u001b[1;33m+\u001b[0m \u001b[0mkz\u001b[0m\u001b[1;33m*\u001b[0m\u001b[0mnz\u001b[0m\u001b[1;33m\u001b[0m\u001b[0m\n\u001b[0m\u001b[0;32m      3\u001b[0m \u001b[1;33m\u001b[0m\u001b[0m\n\u001b[0;32m      4\u001b[0m \u001b[0ma\u001b[0m \u001b[1;33m=\u001b[0m \u001b[0minput\u001b[0m\u001b[1;33m(\u001b[0m\u001b[1;33m)\u001b[0m\u001b[1;33m\u001b[0m\u001b[0m\n\u001b[0;32m      5\u001b[0m \u001b[0mb\u001b[0m \u001b[1;33m=\u001b[0m \u001b[0minput\u001b[0m\u001b[1;33m(\u001b[0m\u001b[1;33m)\u001b[0m\u001b[1;33m\u001b[0m\u001b[0m\n",
      "\u001b[1;31mTypeError\u001b[0m: can't multiply sequence by non-int of type 'str'"
     ]
    }
   ],
   "source": [
    "def skal(kx, ky, kz, nx, ny, nz):\n",
    "    return kx*nx + ky*ny + kz*nz\n",
    "\n",
    "a = input()\n",
    "b = input()\n",
    "l1 = a.split(' ')\n",
    "l2 = b.split(' ')\n",
    "kx = float(l1[0])\n",
    "ky = float(l1[1])\n",
    "kz = float(l1[2])\n",
    "nx = float(l2[0])\n",
    "ny = float(l2[1])\n",
    "nz = float(l2[2])\n",
    "skalar = skal(kx, ky, kz, nx, ny, nz)"
   ]
  },
  {
   "cell_type": "markdown",
   "metadata": {},
   "source": [
    "# Задача 2\n",
    "Напишите программу, упорядочивающую список списков по возрастанию суммы элементов внутренних списков. В решении используйте анонимную функцию. На вход сначала подается число списков `N`, а затем `N` строк, в каждой из которой некоторое количество вещественных чисел, разделенных пробелами.\n",
    "\n",
    "| <font size=3>входные данные</font> | <font size=3>выходные данные</font> |\n",
    "| :---: | :---: |\n",
    "| <font size=3>2<br>1 1<br>1 -1</font> | <font size=3>[[1.0, -1.0], [1.0, 1.0]]</font> |\n",
    "| <font size=3>3<br>-2 3 5<br>-4.2 6 0 3<br>3 0.5 3 -1.1</font> | <font size=3>[[-4.2, 6.0, 0.0, 3.0], [3.0, 0.5, 3.0, -1.1], [-2.0, 3.0, 5.0]]</font> |\n",
    "\n",
    "### Критерии\n",
    "| <font size=3>баллы</font> | <font size=3>критерий</font> |\n",
    "| :---: | :---: |\n",
    "| <font size=3>0</font> | <font size=3>решение содержит ошибку</font> |\n",
    "| <font size=3>1</font> | <font size=3>решение верно, но не соответствует требованиям, предъявляемым к решению, оцениваемому в 2 балла</font> |\n",
    "| <font size=3>2</font> | <font size=3>решение верно, и в нем используются анонимные функции</font> |"
   ]
  },
  {
   "cell_type": "code",
   "execution_count": null,
   "metadata": {
    "collapsed": true
   },
   "outputs": [],
   "source": []
  },
  {
   "cell_type": "markdown",
   "metadata": {},
   "source": [
    "# Задача 3\n",
    "Напишите программу, которая сначала заполняет словарь, в котором ключами и значениями являются строки, а затем печатает значения по ключам. При заполнении словаря на вход программе подаются строки, состоящие из двух слов, разделенных пробелом. Первое слово в такой строке является ключом, а второе - значением. Заполнение словаря продолжается до тех пор, пока не введена строка `\"STOP\"`. Далее программа по очереди считывает ключи к созданному словарю. Если введенный ключ присутствует в словаре, печатается соответствующее значение, в противном случае печатается строка `\"Такого ключа нет\"`. Программа должна завершаться при введении строки `\"STOP\"`.\n",
    "\n",
    "| <font size=3>входные данные</font> | <font size=3>выходные данные</font> |\n",
    "| :---: | :---: |\n",
    "| <font size=3>Петров Иван<br>Иванов Федор<br>Смирнов Николай<br>STOP<br>Иванов<br>Смирнов<br>STOP</font> | <font size=3>Федор<br>Николай</font> |\n",
    "\n",
    "### Критерии\n",
    "| <font size=3>баллы</font> | <font size=3>критерий</font> |\n",
    "| :---: | :---: |\n",
    "| <font size=3>0</font> | <font size=3>решение содержит ошибку</font> |\n",
    "| <font size=3>2</font> | <font size=3>решение верно</font> |"
   ]
  },
  {
   "cell_type": "code",
   "execution_count": null,
   "metadata": {
    "collapsed": true
   },
   "outputs": [],
   "source": [
    "d = {}\n",
    "a"
   ]
  }
 ],
 "metadata": {
  "kernelspec": {
   "display_name": "Python 3",
   "language": "python",
   "name": "python3"
  },
  "language_info": {
   "codemirror_mode": {
    "name": "ipython",
    "version": 3
   },
   "file_extension": ".py",
   "mimetype": "text/x-python",
   "name": "python",
   "nbconvert_exporter": "python",
   "pygments_lexer": "ipython3",
   "version": "3.7.0"
  }
 },
 "nbformat": 4,
 "nbformat_minor": 2
}
