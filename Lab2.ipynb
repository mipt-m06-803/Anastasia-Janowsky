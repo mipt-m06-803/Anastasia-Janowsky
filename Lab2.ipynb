{
 "cells": [
  {
   "cell_type": "code",
   "execution_count": 16,
   "metadata": {},
   "outputs": [
    {
     "name": "stdout",
     "output_type": "stream",
     "text": [
      "123456\n",
      "123654\n"
     ]
    }
   ],
   "source": [
    "#упражнение 1\n",
    "S = input()\n",
    "l = int(len(S)/2)\n",
    "s1 = S[:l]\n",
    "s2 = S[-1:l-1:-1]\n",
    "S = s1 + s2\n",
    "print(S)"
   ]
  },
  {
   "cell_type": "code",
   "execution_count": 4,
   "metadata": {},
   "outputs": [
    {
     "name": "stdout",
     "output_type": "stream",
     "text": [
      "123, 13465136346136, 2341, 123\n",
      "13465136346136\n"
     ]
    }
   ],
   "source": [
    "#упражнение 3\n",
    "S = input()\n",
    "S = S.replace(', ', ' ')\n",
    "l = S.split(' ')\n",
    "max_word = l[0]\n",
    "max_len = len(l[0])\n",
    "for _ in range(len(l)):\n",
    "    if len(l[_]) > max_len:\n",
    "        max_len = len(l[_])\n",
    "        max_word = l[_]\n",
    "print(max_word)\n"
   ]
  },
  {
   "cell_type": "code",
   "execution_count": 1,
   "metadata": {},
   "outputs": [
    {
     "name": "stdout",
     "output_type": "stream",
     "text": [
      "qwerty\n",
      "2\n",
      "qqwweerrttyy\n"
     ]
    }
   ],
   "source": [
    "#упражнение 4\n",
    "S = input()\n",
    "N = int(input())\n",
    "R = ''\n",
    "for char in S:\n",
    "    r = char * N\n",
    "    R = R + r\n",
    "print(R)"
   ]
  },
  {
   "cell_type": "code",
   "execution_count": 3,
   "metadata": {},
   "outputs": [
    {
     "name": "stdout",
     "output_type": "stream",
     "text": [
      "qwe rtry uiop\n",
      "qwe,rtry,uiop\n"
     ]
    }
   ],
   "source": [
    "#упражнение 6.1\n",
    "S = input()\n",
    "delim = ','\n",
    "l = S.split(' ')\n",
    "R = delim.join(l)\n",
    "print(R)"
   ]
  },
  {
   "cell_type": "code",
   "execution_count": 4,
   "metadata": {},
   "outputs": [
    {
     "name": "stdout",
     "output_type": "stream",
     "text": [
      "qwe rtyu iop\n",
      "qwe,rtyu,iop\n"
     ]
    }
   ],
   "source": [
    "#упражнение 6.2\n",
    "S = input()\n",
    "S = S.replace(' ', ',')\n",
    "print(S)"
   ]
  },
  {
   "cell_type": "code",
   "execution_count": 10,
   "metadata": {},
   "outputs": [
    {
     "name": "stdout",
     "output_type": "stream",
     "text": [
      "qwertyu\n",
      "qwsdfg\n",
      "False\n"
     ]
    }
   ],
   "source": [
    "#упражнение 7\n",
    "S1 = input()\n",
    "S2 = input()\n",
    "if S2 in S1:\n",
    "    a = True\n",
    "else:\n",
    "    a = False\n",
    "print(a)"
   ]
  },
  {
   "cell_type": "code",
   "execution_count": 16,
   "metadata": {},
   "outputs": [
    {
     "name": "stdout",
     "output_type": "stream",
     "text": [
      "vxyz\n",
      "abmn\n",
      "Вторая\n"
     ]
    }
   ],
   "source": [
    "#упражнение 8\n",
    "S = input()\n",
    "P = input()\n",
    "s = S[::-1]\n",
    "p = P[::-1]\n",
    "if S < P and s < p:\n",
    "    print('Первая')\n",
    "else:\n",
    "    print('Вторая')"
   ]
  },
  {
   "cell_type": "code",
   "execution_count": 20,
   "metadata": {},
   "outputs": [
    {
     "name": "stdout",
     "output_type": "stream",
     "text": [
      "123 456 789 0\n"
     ]
    },
    {
     "ename": "TypeError",
     "evalue": "int() argument must be a string, a bytes-like object or a number, not 'list'",
     "output_type": "error",
     "traceback": [
      "\u001b[1;31m---------------------------------------------------------------------------\u001b[0m",
      "\u001b[1;31mTypeError\u001b[0m                                 Traceback (most recent call last)",
      "\u001b[1;32m<ipython-input-20-b316b7766e6b>\u001b[0m in \u001b[0;36m<module>\u001b[1;34m()\u001b[0m\n\u001b[0;32m      1\u001b[0m \u001b[1;31m#упражнение 9\u001b[0m\u001b[1;33m\u001b[0m\u001b[1;33m\u001b[0m\u001b[0m\n\u001b[0;32m      2\u001b[0m \u001b[0mS\u001b[0m \u001b[1;33m=\u001b[0m \u001b[0minput\u001b[0m\u001b[1;33m(\u001b[0m\u001b[1;33m)\u001b[0m\u001b[1;33m\u001b[0m\u001b[0m\n\u001b[1;32m----> 3\u001b[1;33m \u001b[0ml\u001b[0m \u001b[1;33m=\u001b[0m \u001b[0mint\u001b[0m\u001b[1;33m(\u001b[0m\u001b[0mS\u001b[0m\u001b[1;33m.\u001b[0m\u001b[0msplit\u001b[0m\u001b[1;33m(\u001b[0m\u001b[1;34m' '\u001b[0m\u001b[1;33m)\u001b[0m\u001b[1;33m)\u001b[0m\u001b[1;33m\u001b[0m\u001b[0m\n\u001b[0m\u001b[0;32m      4\u001b[0m \u001b[0mprint\u001b[0m\u001b[1;33m(\u001b[0m\u001b[0ml\u001b[0m\u001b[1;33m)\u001b[0m\u001b[1;33m\u001b[0m\u001b[0m\n",
      "\u001b[1;31mTypeError\u001b[0m: int() argument must be a string, a bytes-like object or a number, not 'list'"
     ]
    }
   ],
   "source": [
    "#упражнение 9\n",
    "S = input()\n",
    "l = int(S.split(' '))\n",
    "print(l)"
   ]
  },
  {
   "cell_type": "code",
   "execution_count": 12,
   "metadata": {},
   "outputs": [
    {
     "name": "stdout",
     "output_type": "stream",
     "text": [
      "s2 > s3: False\n",
      "s1 > s2: True\n"
     ]
    }
   ],
   "source": [
    "#упражнение 10\n",
    "S = input()\n"
   ]
  },
  {
   "cell_type": "code",
   "execution_count": 19,
   "metadata": {},
   "outputs": [
    {
     "ename": "SyntaxError",
     "evalue": "invalid syntax (<ipython-input-19-a6f5fdde0d3e>, line 3)",
     "output_type": "error",
     "traceback": [
      "\u001b[1;36m  File \u001b[1;32m\"<ipython-input-19-a6f5fdde0d3e>\"\u001b[1;36m, line \u001b[1;32m3\u001b[0m\n\u001b[1;33m    l = [int(S[i]) for i in range len(S)]\u001b[0m\n\u001b[1;37m                                    ^\u001b[0m\n\u001b[1;31mSyntaxError\u001b[0m\u001b[1;31m:\u001b[0m invalid syntax\n"
     ]
    }
   ],
   "source": [
    "#упражнение 9\n",
    "S = input()\n",
    "l = [int(S[i]) for i in range len(S)]\n",
    "print(l)"
   ]
  }
 ],
 "metadata": {
  "kernelspec": {
   "display_name": "Python 3",
   "language": "python",
   "name": "python3"
  },
  "language_info": {
   "codemirror_mode": {
    "name": "ipython",
    "version": 3
   },
   "file_extension": ".py",
   "mimetype": "text/x-python",
   "name": "python",
   "nbconvert_exporter": "python",
   "pygments_lexer": "ipython3",
   "version": "3.7.0"
  }
 },
 "nbformat": 4,
 "nbformat_minor": 2
}
