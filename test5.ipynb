{
 "cells": [
  {
   "cell_type": "markdown",
   "metadata": {},
   "source": [
    "# Задача 1. Упражнения на генераторы списков\n",
    "\n",
    "1. Создайте список значений факториалов натуральных чисел до 100 включительно.\n",
    "\n",
    "2. Создайте список таких значений факториалов натуральных чисел до 100 включительно, что первая цифра слева в их записи равна 2. Например, 24 (4!).\n",
    "\n",
    "Программы ничего не получают на вход и ничего не печатают. \n",
    "\n",
    "### Критерии\n",
    "\n",
    "За правильную реализацию каждого из генераторов присуждается 1 балл. \n",
    "\n",
    "Разрешается использовать, как свои реализации функции для вычисления факториала, так и функцию `factorial` из модуля `math`. `math.factorial` используется следующим образом.\n",
    "\n",
    "```python\n",
    "import math\n",
    "fact = math.factorial(10)  # 10!\n",
    "```\n",
    "\n",
    "**Решения должны укладываться в одну строчку** (без учета команды `import`)."
   ]
  },
  {
   "cell_type": "code",
   "execution_count": 6,
   "metadata": {},
   "outputs": [
    {
     "name": "stdout",
     "output_type": "stream",
     "text": [
      "[1, 2, 6, 24, 120, 720, 5040, 40320, 362880, 3628800]\n"
     ]
    }
   ],
   "source": [
    "import math\n",
    "l = [math.factorial(_) for _ in range(1, 11)]"
   ]
  },
  {
   "cell_type": "code",
   "execution_count": 10,
   "metadata": {},
   "outputs": [],
   "source": [
    "import math\n",
    "l = [math.factorial(_) for _ in range(1, 101) if str(math.factorial(_))[0] == 2]"
   ]
  },
  {
   "cell_type": "markdown",
   "metadata": {},
   "source": [
    "# Задача 2. Упражнение на генератор словарей\n",
    "\n",
    "Из приведенного в следующей клетке списка строк `L` создайте словарь, ключами которого будут строки  из списка `L`, а значениями - длины этих строк.\n",
    "\n",
    "Программа ничего не получает на вход и ничего не печатает.\n",
    "\n",
    "### Критерии\n",
    "\n",
    "За правильную реализацию генератора словаря присуждается 1 балл. **Решение должно укладываться в одну строчку**."
   ]
  },
  {
   "cell_type": "code",
   "execution_count": 17,
   "metadata": {},
   "outputs": [
    {
     "name": "stdout",
     "output_type": "stream",
     "text": [
      "['aaaaaaaaaaaaaaaa', 'aaaaaa', 'aaaaaaaaa', 'aaaaaaa', 'aaaaaaaaaaaa', 'aaaaaaaaa', 'aaaaaa', '', 'aaaaaaaaaaaaaa', 'aaaaaaaaaaaa', 'aaaaa', 'aaaaaaaaaa', 'a', 'aaa', 'aaaaaaaaa', 'aaaaaaaaaaaaaaaaaaa', 'aaaaaaaaaaaaaaaaaa', 'aaaaaaaaaaaaaaaa', 'aa', 'aaaaaaaa', 'aaaaaaaaaaaaaaaa', 'aaaaaaaaaaaaaaaaaaaa', 'aa', 'a', 'aaaaa', 'aaaaaaaaaaaa', 'aaaaaaaaaaaaaaaaaaaa', 'aaaaaaaaaaaa', 'aaaaaaaaaaaaaaa', 'aaaaaaaaaaaaaaa', 'aaaaaaaaaaa', 'aaaaaaaaaa', 'aaaaaaaaaaaa', 'aaa', 'aaaaaa', 'aaaaaaaaaaaaaa', 'aaaaa', 'aaaaaaaaaaaa', 'aaaaa', 'aa', 'aaaaaaaaaaa', 'aaa', 'aaa', 'aaaa', 'a', 'aaaa', 'a', 'aaaaaaaaaaa', 'aaaaaaaa', 'aaaaaaaaaa', 'aaaaaaa', 'aa', 'aa', 'aa', 'aa', 'a', 'aaaaaaaaaaaaaaaaa', 'aaaaaaaaaaaaaaaa', 'aaaaaaaaaa', 'aaaaaaaaa', 'aaaaa', 'aaaaaaaaaaaaaaaaaa', 'aaaaaaaaaa', 'aaaa', 'aaaaaaaaaaaaaaa', 'aaaaaaaaaa', 'aaaaaaaaaaaaaaaaaa', 'aaaaaaaa', 'aaaaaa', 'aaaaaaaaaaaaaa', 'aaaaaaaaaa', 'aaaaaaaaaaaaaaaaaa', 'aaaaaaaaaaa', 'aaaaaaaaaaaaa', 'aaaaaaaaa', 'aaaaaaaaaaaaa', 'aaaaaaa', 'aaaaaaaa', 'aaa', 'aaaaaaaaa', 'aaaaaaaa', 'aa', 'aaaaaaaaa', 'aaaaaaaaa', 'aaaa', 'aaaaaaaaaaaaaaaaaaaa']\n",
      "{'aaaaaaaaaaaaaaaa': 16, 'aaaaaa': 6, 'aaaaaaaaa': 9, 'aaaaaaa': 7, 'aaaaaaaaaaaa': 12, '': 0, 'aaaaaaaaaaaaaa': 14, 'aaaaa': 5, 'aaaaaaaaaa': 10, 'a': 1, 'aaa': 3, 'aaaaaaaaaaaaaaaaaaa': 19, 'aaaaaaaaaaaaaaaaaa': 18, 'aa': 2, 'aaaaaaaa': 8, 'aaaaaaaaaaaaaaaaaaaa': 20, 'aaaaaaaaaaaaaaa': 15, 'aaaaaaaaaaa': 11, 'aaaa': 4, 'aaaaaaaaaaaaaaaaa': 17, 'aaaaaaaaaaaaa': 13}\n"
     ]
    }
   ],
   "source": [
    "from random import randint as rnt\n",
    "L = [''.join(['a']*rnt(0, 20)) for _ in range(rnt(0, 100))]\n",
    "d = {L[i]: len(L[i]) for i in range(len(L))}"
   ]
  },
  {
   "cell_type": "markdown",
   "metadata": {},
   "source": [
    "# Задача 3. Трибоначчи\n",
    "\n",
    "Ниже приведена функция для вычисления чисел трибоначчи. Числа трибоначчи - это элементы последовательности, задаваемой рекуррентной формулой $$T_n = \\begin{cases} T_{n-1} + T_{n-2} + T_{n-3}, & \\mbox{if } n > 3 \\\\ 1, & \\mbox{if } n \\in \\left\\lbrace 1, 2, 3 \\right\\rbrace \\end{cases}$$\n",
    "\n",
    "Замените 3 выражения в теле цикла одним множественным присваиванием.\n",
    "\n",
    "Программа ничего не получает на вход и ничего не печатает.\n",
    "\n",
    "### Критерии\n",
    "\n",
    "Присуждается 1 балл за замену трех выражений в теле цикла одним множественным присваиванием, при условии, что функция `trib()` будет работать правильно."
   ]
  },
  {
   "cell_type": "code",
   "execution_count": null,
   "metadata": {
    "collapsed": true
   },
   "outputs": [],
   "source": [
    "def trib(n):\n",
    "    if n < 4:\n",
    "        return 1\n",
    "    trib1, trib2, trib3 = 1, 1, 1\n",
    "    for _ in range(n - 3):\n",
    "        trib3, trib2, trib1 = trib1 + trib2 + trib3, trib3, trib2 \n",
    "    return trib3\n",
    "\n",
    "for i in range(1, 20):\n",
    "    print(trib(i))"
   ]
  },
  {
   "cell_type": "markdown",
   "metadata": {},
   "source": [
    "# Задача 4. Кузнечики\n",
    "\n",
    "`N` кузнечиков стоят в ряд. Для каждого кузнечика задана числовая характеристика — длина его прыжка. Если длина прыжка кузнечика равна `l`, то он за один прыжок перепрыгивает через `l` других кузнечиков.\n",
    "\n",
    "Каждую секунду последний кузнечик прыгает к началу ряда, перепрыгивает через столько кузнечиков, чему равна длина его\n",
    "прыжка, и становится между двумя другими кузнечиками или в начало ряда. Гарантируется, что длина прыжка меньше количества кузнечиков.\n",
    "\n",
    "В первой строке входных данных задана расстановка кузнечиков (длины их прыжков). Во второй строке входных данных задано число секунд `t`. Определите и выведите на экран расстановку кузнечиков через `t` секунд. Все длины прыжков — натуральные числа, меньшие, чем число кузнечиков в ряду.\n",
    "\n",
    "\n",
    "| <font size=3>Входные данные</font>      | <font size=3>Выходные данные</font>    |\n",
    "| :--- | :--- |\n",
    "| <font size=3>1 2 3 4 2<br>2</font> | <font size=3>4 1 2 2 3</font> |\n",
    "\n",
    "### Критерии\n",
    "| <font size=3>баллы</font> | <font size=3>критерий</font> |\n",
    "| :---: | :---: |\n",
    "| <font size=3>0</font> | <font size=3>решение содержит ошибку</font> |\n",
    "| <font size=3>2</font> | <font size=3>решение верно</font> |"
   ]
  },
  {
   "cell_type": "code",
   "execution_count": null,
   "metadata": {
    "collapsed": true
   },
   "outputs": [],
   "source": [
    "l = [int(_) for _ in input().split()]"
   ]
  },
  {
   "cell_type": "markdown",
   "metadata": {},
   "source": [
    "# Задача 5. Из позиционной в десятичную\n",
    "\n",
    "Требуется перевести число из позиционной системы счисления с основанием от 2 до 36 в десятичную систему счисления. На вход программе подаются число и основание системы счисления. Програма должна распечатать число в десятичной системе счисления.\n",
    "\n",
    "Запрещается использовать встроенные функции и чужие реализации для перевода между системами счисления.\n",
    "\n",
    "| <font size=3>Входные данные</font> | <font size=3>Выходные данные</font> |\n",
    "| :--- | :--- |\n",
    "| <font size=3>101 2</font> | <font size=3>5</font> |\n",
    "| <font size=3>51 6</font> | <font size=3>31</font> |\n",
    "| <font size=3>FF 16</font> | <font size=3>255</font> |\n",
    "| <font size=3>-FF 17</font> | <font size=3>-270</font> |\n",
    "| <font size=3>-ZA 36</font> | <font size=3>-1270</font> |\n",
    "\n",
    "### Критерии\n",
    "| <font size=3>баллы</font> | <font size=3>критерий</font> |\n",
    "| :---: | :---: |\n",
    "| <font size=3>0</font> | <font size=3>решение содержит ошибку</font> |\n",
    "| <font size=3>4</font> | <font size=3>решение верно</font> |"
   ]
  },
  {
   "cell_type": "code",
   "execution_count": null,
   "metadata": {
    "collapsed": true
   },
   "outputs": [],
   "source": []
  }
 ],
 "metadata": {
  "kernelspec": {
   "display_name": "Python 3",
   "language": "python",
   "name": "python3"
  },
  "language_info": {
   "codemirror_mode": {
    "name": "ipython",
    "version": 3
   },
   "file_extension": ".py",
   "mimetype": "text/x-python",
   "name": "python",
   "nbconvert_exporter": "python",
   "pygments_lexer": "ipython3",
   "version": "3.7.0"
  }
 },
 "nbformat": 4,
 "nbformat_minor": 2
}
