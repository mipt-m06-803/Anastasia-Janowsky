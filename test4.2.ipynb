{
 "cells": [
  {
   "cell_type": "markdown",
   "metadata": {},
   "source": [
    "# <font color=blue>Тест 4.2</font>\n",
    "\n",
    "<font color=red>Время выполнения: 35 мин</font>\n",
    "\n",
    "# <font color=blue>Задача 1. Функции</font>\n",
    "\n",
    "Реализуйте перечисленные функции\n",
    "\n",
    "- Функция <font color=blue face=\"courier\" size=3>rep()</font> принимает на вход список неотрицательных целых чисел <font color=blue face=\"courier\" size=3>A</font> и возвращает **новый** список <font color=blue face=\"courier\" size=3>B</font>, в котором каждый элемент <font color=blue face=\"courier\" size=3>A[i]</font> списка <font color=blue face=\"courier\" size=3>A</font> повторяется <font color=blue face=\"courier\" size=3>A[i]</font> раз.\n",
    "\n",
    "| <font size=3>Список <font color=blue face=\"courier\" size=3>A</font>, поданный на вход функции <font color=blue face=\"courier\"  size=3>rep()</font></font> | <font size=3>Список <font color=blue face=\"courier\" size=3>B</font>, который вернула функция <font color=blue face=\"courier\"  size=3>rep()</font></font> |\n",
    "| :---: | :---: |\n",
    "| <font size=3><font color=blue face=\"courier\" size=3>[1, 2, 3]</font></font> | <font size=3><font color=blue face=\"courier\" size=3>[1, 1, 2, 2, 3, 3, 3]</font></font> |\n",
    "| <font size=3><font color=blue face=\"courier\" size=3>[4, 0, 3]</font></font> | <font size=3><font color=blue face=\"courier\" size=3>[4, 4, 4, 4, 3, 3, 3]</font></font> |\n",
    "\n",
    "  >**Подсказка:** повторение списков можно эффективно применить в этом пункте.\n",
    "  \n",
    "- Функция <font color=blue face=\"courier\" size=3>max\\_()</font> принимает на вход 2 списка чисел <font color=blue face=\"courier\" size=3>A</font> и <font color=blue face=\"courier\" size=3>B</font> и возвращает **новый** список <font color=blue face=\"courier\" size=3>С</font>, элементы которого равны наибольшим из соответствующих элементов <font color=blue face=\"courier\" size=3>A</font> и <font color=blue face=\"courier\" size=3>B</font>.\n",
    "\n",
    "| <font size=3>Списки <font color=blue face=\"courier\" size=3>A</font> и <font color=blue face=\"courier\" size=3> B</font>, поданные на вход функции <font color=blue face=\"courier\"  size=3>max\\_()</font></font> | <font size=3>Список <font color=blue face=\"courier\" size=3>C</font>, который вернула функция <font color=blue face=\"courier\"  size=3>max\\_()</font></font> |\n",
    "| :---: | :---: |\n",
    "| <font size=3><font color=blue face=\"courier\" size=3>[1, 2, 3]<br>[3, 2, 1]</font></font> | <font size=3><font color=blue face=\"courier\" size=3>[3, 2, 3]</font></font> |\n",
    "| <font size=3><font color=blue face=\"courier\" size=3>[0, -5, 3]<br>[-1, 2, 4]</font></font> | <font size=3><font color=blue face=\"courier\" size=3>[0, 2, 4]</font></font> |\n",
    "\n",
    "- Функция <font color=blue face=\"courier\" size=3>filter\\_()</font> принимает на вход список чисел <font color=blue face=\"courier\" size=3>A</font> и  число <font color=blue face=\"courier\" size=3>min\\_</font>. Функция <font color=blue face=\"courier\" size=3>filter\\_()</font> удаляет из <font color=blue face=\"courier\" size=3>A</font> все элементы, которые **строго меньше** <font color=blue face=\"courier\" size=3>min\\_</font>. <font color=blue face=\"courier\" size=3>filter\\_()</font> ничего не возвращает, а только модифицирует список <font color=blue face=\"courier\" size=3>A</font>.\n",
    "\n",
    "| <font size=3>Список <font color=blue face=\"courier\" size=3>A</font> и число <font color=blue face=\"courier\" size=3>min\\_</font>, поданные на вход функции <font color=blue face=\"courier\"  size=3>filter\\_()</font></font> | <font size=3>Список <font color=blue face=\"courier\" size=3>A</font> после применения к нему функции <font color=blue face=\"courier\"  size=3>filter\\_()</font></font> |\n",
    "| :---: | :---: |\n",
    "| <font size=3><font color=blue face=\"courier\" size=3>A = [1, 2, 3]<br>min\\_ = 2</font></font> | <font size=3><font color=blue face=\"courier\" size=3>[2, 3]</font></font> |\n",
    "| <font size=3><font color=blue face=\"courier\" size=3>A = [4, 0, 3]<br>min\\_ = -1</font></font> | <font size=3><font color=blue face=\"courier\" size=3>[4, 0, 3]</font></font> |\n",
    "\n",
    "- Функция <font color=blue face=\"courier\" size=3>pow()</font> принимает на вход 2 аргумента: список положительных вещественных чисел <font color=blue face=\"courier\" size=3>A</font> и  список вещественных чисел <font color=blue face=\"courier\" size=3>B</font>. Функция <font color=blue face=\"courier\" size=3>pow()</font> модифицирует список <font color=blue face=\"courier\" size=3>A</font>, возводя каждый его элемент <font color=blue face=\"courier\" size=3>A[i]</font> в степень элемента <font color=blue face=\"courier\" size=3>B[i]</font>.\n",
    "\n",
    "| <font size=3>Списки <font color=blue face=\"courier\" size=3>A</font> и <font color=blue face=\"courier\" size=3> B</font>, поданные на вход функции <font color=blue face=\"courier\"  size=3>pow()</font></font> | <font size=3>Список <font color=blue face=\"courier\" size=3>A</font> после того, как к нему была применена функция <font color=blue face=\"courier\"  size=3>pow()</font></font> |\n",
    "| :---: | :---: |\n",
    "| <font size=3><font color=blue face=\"courier\" size=3>A = [1.0, 2.0, 3.0]<br>B = [3.0, 2.0, 1.0]</font></font> | <font size=3><font color=blue face=\"courier\" size=3>[1.0, 4.0, 3.0]</font></font> |\n",
    "| <font size=3><font color=blue face=\"courier\" size=3>A = [0.1, 5.0, 3.0]<br>B = [-1.0, 2.0, 4.0]</font></font> | <font size=3><font color=blue face=\"courier\" size=3>[10.0, 25.0, 81.0]</font></font> |\n",
    "\n",
    "### Указания\n",
    "\n",
    "1. Функции ничего не печатают.\n",
    "\n",
    "2. Функции не считывают данные с клавиатуры\n",
    "\n",
    "### Критерии\n",
    "За решенный пункт начисляется один балл."
   ]
  },
  {
   "cell_type": "code",
   "execution_count": 19,
   "metadata": {},
   "outputs": [
    {
     "data": {
      "text/plain": [
       "[1, 2, 2, 3, 3, 3]"
      ]
     },
     "execution_count": 19,
     "metadata": {},
     "output_type": "execute_result"
    }
   ],
   "source": [
    "#Функция rep() принимает на вход список неотрицательных целых чисел A и возвращает новый список B,\n",
    "#в котором каждый элемент A[i] списка A повторяется A[i] раз\n",
    "\n",
    "def rep(A):\n",
    "    B = []\n",
    "    for i in range(len(A)):\n",
    "        for j in range(A[i]):\n",
    "            B.append(A[i])\n",
    "    return B\n",
    "    \n",
    "A = [1, 2, 3]\n",
    "rep(A)"
   ]
  },
  {
   "cell_type": "code",
   "execution_count": 9,
   "metadata": {},
   "outputs": [
    {
     "data": {
      "text/plain": [
       "[3, 2, 3]"
      ]
     },
     "execution_count": 9,
     "metadata": {},
     "output_type": "execute_result"
    }
   ],
   "source": [
    "#Функция max_() принимает на вход 2 списка чисел A и B и возвращает новый список С,\n",
    "#элементы которого равны наибольшим из соответствующих элементов A и B.\n",
    "\n",
    "def max_(A, B):\n",
    "    C = []\n",
    "    for i in range(len(A)):\n",
    "        C.append(max(A[i], B[i]))\n",
    "    return C\n",
    "    \n",
    "    \n",
    "A = [1, 2, 3]\n",
    "B = [3, 2, 1]\n",
    "max_(A, B)"
   ]
  },
  {
   "cell_type": "code",
   "execution_count": 16,
   "metadata": {},
   "outputs": [
    {
     "data": {
      "text/plain": [
       "[2, 3]"
      ]
     },
     "execution_count": 16,
     "metadata": {},
     "output_type": "execute_result"
    }
   ],
   "source": [
    "#Функция filter_() принимает на вход список чисел A и число min_.\n",
    "#Функция filter_() удаляет из A все элементы, которые строго меньше min_.\n",
    "#filter_() ничего не возвращает, а только модифицирует список A.\n",
    "\n",
    "def filter_(A, min_):\n",
    "    for i in A:\n",
    "        if i < min_:\n",
    "            A.remove(i)\n",
    "    return A\n",
    "    \n",
    "A = [1, 2, 3]\n",
    "min_ = 2\n",
    "filter_(A, min_)"
   ]
  },
  {
   "cell_type": "code",
   "execution_count": 18,
   "metadata": {},
   "outputs": [
    {
     "data": {
      "text/plain": [
       "[1.0, 4.0, 3.0]"
      ]
     },
     "execution_count": 18,
     "metadata": {},
     "output_type": "execute_result"
    }
   ],
   "source": [
    "#Функция pow() принимает на вход 2 аргумента: список положительных вещественных чисел A и список вещественных чисел B.\n",
    "#Функция pow() модифицирует список A, возводя каждый его элемент A[i] в степень элемента B[i]\n",
    "\n",
    "def pow(A, B):\n",
    "    for i in range(len(A)):\n",
    "        A[i] = A[i]**B[i]\n",
    "    return A\n",
    "\n",
    "A = [1.0, 2.0, 3.0]\n",
    "B = [3.0, 2.0, 1.0]\n",
    "pow(A, B)"
   ]
  },
  {
   "cell_type": "markdown",
   "metadata": {},
   "source": [
    "\n",
    "# <font color=blue>Задача 2. Применение анонимных функций и функция `sorted()`</font>\n",
    "\n",
    "1. Получите список <font color=blue face=\"courier\" size=3>A</font>, в котором элементы <font color=blue face=\"courier\" size=3>L[i]</font> списка натуральных чисел <font color=blue face=\"courier\" size=3>L</font> будут расположены по возрастанию их зеркальные числа. Под числом, зеркальным к числу <font color=blue face=\"courier\" size=3>L[i]</font>, понимается число, составленное из цифр <font color=blue face=\"courier\" size=3>L[i]</font>, записанных в обратном порядке **без ведущих нулей**. Используйте встроенную функцию <font color=blue face=\"courier\" size=3>sorted()</font> и ее именованный аргумент <font color=blue face=\"courier\" size=3>key</font>. **Запрещается использовать результат, полученный при решении 2-го пункта.**\n",
    "\n",
    "2. Упорядочите элементы списка <font color=blue face=\"courier\" size=3>L</font> **по убыванию** их зеркальных вариантов. Используйте метод списков <font color=blue face=\"courier\" size=3>list.sort()</font>. **Запрещается использовать результат, полученный при решении 1-го пункта.**\n",
    "\n",
    "### Указания\n",
    "\n",
    "1. Используйте анонимные функции\n",
    "\n",
    "### Подсказки\n",
    "\n",
    "1. Можно преобразовать натуральное число в строку.\n",
    "\n",
    "2. Чтобы избавиться от ведущих нулей в строке, подойдут функции [`str.rstrip()`](https://docs.python.org/3/library/stdtypes.html#str.rstrip) и [`str.lstrip()`](https://docs.python.org/3/library/stdtypes.html#str.lstrip).\n",
    "\n",
    "3. Число можно развернуть с помощью целочисленного деления на 10 и взятия остатка при делении на 10 так, как мы это сделали в лабораторной работе на рекурсию (lab7).\n",
    "\n",
    "### Входные и выходные данные\n",
    "\n",
    "На вход подаются натуральные числа, разделенные пробелами, которые надо поместить в список <font color=blue face=\"courier\" size=3>L</font>.\n",
    "\n",
    "На выходе должны быть распечатаны **через пробел** списки <font color=blue face=\"courier\" size=3>A</font> и <font color=blue face=\"courier\" size=3>L</font>.\n",
    "\n",
    "|<font size=3>Входные данные</font>| <font size=3>Выходные данные</font> |\n",
    "| :---: | :---: |\n",
    "| <font size=3>1 2 3 4</font> | <font size=3>1 2 3 4<br>4 3 2 1</font> |\n",
    "| <font size=3>11 12 13 14</font> | <font size=3>11 12 13 14<br>14 13 12 11</font> |\n",
    "| <font size=3>14 23 32 41</font> | <font size=3>41 32 23 14<br>14 23 32 41</font> |\n",
    "| <font size=3>4 30 200 1000</font> | <font size=3>1000 200 30 4<br>4 30 200 1000</font> |\n",
    "\n",
    "### Критерии\n",
    "1. Решения засчитываются, если используется именованный аргумент <font color=blue face=\"courier\" size=3>key</font>.\n",
    "\n",
    "2. Если в решении нет анонимных функций, то за каждый пункт начисляется 1 балл.\n",
    "\n",
    "3. Если в решении правильно используются анонимные функции, то 1 решенный пуе=нкт начисляются 2 балла, а за 2 решенных пункта начисляются 3 балла."
   ]
  },
  {
   "cell_type": "code",
   "execution_count": null,
   "metadata": {
    "collapsed": true
   },
   "outputs": [],
   "source": [
    "L = input().split()\n",
    "lambda x: x[::-1]\n",
    "A = [i for i in L]\n",
    "\n",
    "\n",
    "print(' '.join(A))\n",
    "print(' '.join(L))"
   ]
  },
  {
   "cell_type": "markdown",
   "metadata": {},
   "source": [
    "# <font color=blue>Задача 3. Глобальная переменная</font>\n",
    "\n",
    "Реализуйте функцию <font color=blue face=\"courier\" size=3>f()</font>, которая при каждом нечетном вызове будет печатать строку <br><font color=green face=\"courier\" size=3>\"It is odd call! Call number: &lt;Какой по счету раз вызывают функцию f()\\&gt;\"</font><br>а при четных вызовах соответственно<br><font color=green face=\"courier\" size=3>\"It is even call! Call number: &lt;Какой по счету раз вызывают функцию f()\\&gt;\"</font>.<br>Реализуйте это с помощью глобальной переменной <font color=blue face=\"courier\" size=3>num\\_calls</font>\n",
    "\n",
    "Продемонстрируйте работу счетчика вызовов функции. Для этого вызовите функцию <font color=blue face=\"courier\" size=3>f()</font> в цикле 10 раз.\n",
    "\n",
    "### Указания\n",
    "\n",
    "1. Программа ничего не принимает на вход\n",
    "\n",
    "### Критерии\n",
    "\n",
    "1. 1 балл начисляется за правильную реализацию функции <font color=blue face=\"courier\" size=3>f()</font>.\n",
    "\n",
    "2. 1 балл начисляется за демонстрацию работы счетчика."
   ]
  },
  {
   "cell_type": "code",
   "execution_count": 14,
   "metadata": {},
   "outputs": [
    {
     "name": "stdout",
     "output_type": "stream",
     "text": [
      "It is odd call! Call number: 9\n",
      "It is odd call! Call number: 7\n",
      "It is odd call! Call number: 5\n",
      "It is odd call! Call number: 3\n",
      "It is odd call! Call number: 1\n"
     ]
    }
   ],
   "source": [
    "num_calls = 10\n",
    "def f():\n",
    "    global num_calls\n",
    "    if num_calls % 2 != 0:\n",
    "        print(\"It is odd call! Call number: {}\".format(num_calls))\n",
    "\n",
    "for i in range(10):\n",
    "    f()\n",
    "    num_calls -= 1"
   ]
  },
  {
   "cell_type": "markdown",
   "metadata": {},
   "source": [
    "# <font color=blue>Задача 4. Создание словаря</font>\n",
    "\n",
    "Напишите программу, которая сначала заполняет словарь, а затем печатает значения по ключам. При заполнении словаря на вход подаются строки, состоящие из двух слов, разделенных пробелом. Первое слово в такой строке является ключом, а второе - значением. \n",
    "\n",
    "Если при добавлении очередного элемента оказывается, что такой элемент уже есть в словаре, то программа должна печатать строку `\"Ключ <ключ_добавляемого_элемента> уже есть в словаре. Заменить старое значение новым? [да/нет]\"` и\n",
    "\n",
    "1) если пользователь ввел слово `\"нет\"`, то **не менять** элемент словаря,\n",
    "\n",
    "2) в противном случае заменить старое значение новым.\n",
    "\n",
    "Заполнение словаря продолжается до тех пор, пока не введена строка `\"STOP\"`. \n",
    "\n",
    "Далее программа по очереди считывает ключи к созданному словарю. Если введенный ключ присутствует в словаре, печатается соответствующее значение, в противном случае печатается строка `\"Такого ключа нет\"`. Выполнение программы должно завершаться введением строки `\"STOP\"`.\n",
    "\n",
    "\n",
    "| <font size=3>входные данные</font> | <font size=3>выходные данные</font> |\n",
    "| :---: | :---: |\n",
    "| <font size=3>Петров Иван<br>Иванов Федор<br>Смирнов Николай<br>Петров Валера<br>да<br>Иванов Василий<br>нет<br>STOP<br>Иванов<br>Петров<br>Смирнов<br>Сидоров</font> | <font size=3>Ключ \"Петров\" уже есть в словаре. Заменить старое значение новым? [да/нет]<br>Ключ \"Иванов\" уже есть в словаре. Заменить старое значение новым? [да/нет]<br>Федор<br>Валера<br>Николай<br>Такого ключа нет</font> |\n",
    "\n",
    "### Критерии\n",
    "По 2 балла начисляется за правильную организацию заполнения словаря и за парвильное извлечение значений."
   ]
  },
  {
   "cell_type": "code",
   "execution_count": null,
   "metadata": {
    "collapsed": true
   },
   "outputs": [],
   "source": []
  }
 ],
 "metadata": {
  "kernelspec": {
   "display_name": "Python 3",
   "language": "python",
   "name": "python3"
  },
  "language_info": {
   "codemirror_mode": {
    "name": "ipython",
    "version": 3
   },
   "file_extension": ".py",
   "mimetype": "text/x-python",
   "name": "python",
   "nbconvert_exporter": "python",
   "pygments_lexer": "ipython3",
   "version": "3.7.0"
  }
 },
 "nbformat": 4,
 "nbformat_minor": 2
}
