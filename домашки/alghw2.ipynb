{
 "cells": [
  {
   "cell_type": "markdown",
   "metadata": {},
   "source": [
    "### Литература\n",
    "\n",
    "1. И.Н. Порублев, А.Н. Ставровский - Алгоритмы и программы. Решение олимпиадных задач<br>\n",
    "Загружена в канал #edu_materials\n",
    "\n",
    "# Упражнение 1. Бинарный поиск\n",
    "\n",
    "Лучший способ искать элемент в отсортированном массиве. Пусть требуется определить индекс $i$ элемента, равного `x`, в упорядоченном по возрастанию массиве $A$. Тогда действовать следует следующим образом:\n",
    "\n",
    "1. Берем центральный элемент $c$ в массиве $A$\n",
    "\n",
    "2. Сравниваем $c$ с $x$. Если $c < x$, то элемент, равный $x$ правее $c$ и бинарный поиск применяется к правой половине массива. Если $c < x$, то бинарный поиск соответственно применяется к левой половине массива.\n",
    "\n",
    "Реализуйте поиск элемента, равного $x$, в рекурсивном и нерекурсивном вариантах."
   ]
  },
  {
   "cell_type": "code",
   "execution_count": 2,
   "metadata": {},
   "outputs": [
    {
     "name": "stdout",
     "output_type": "stream",
     "text": [
      "[9, 16, 18, 22, 33, 46, 56, 72, 84, 98]\n",
      "22\n",
      "Index: 3\n"
     ]
    }
   ],
   "source": [
    "import random\n",
    "N = random.randint(10, 20)\n",
    "A = random.sample(range(100), N)\n",
    "A.sort()\n",
    "print(A)\n",
    "\n",
    "x = int(input())\n",
    "\n",
    "def BinSearch(L, x):\n",
    "    left = 0\n",
    "    right = len(L)-1\n",
    "    mid = len(L)//2\n",
    "    while L[mid] != x and left <= right:\n",
    "        if L[mid] < x:\n",
    "            left = mid + 1\n",
    "        else:\n",
    "            right = mid - 1\n",
    "        mid = (left+right)//2\n",
    "    if left > right:\n",
    "        print('Not found')\n",
    "    else:\n",
    "        print('Index: {}'.format(mid))\n",
    "        \n",
    "low = 0\n",
    "high  = len(A)-1\n",
    "\n",
    "def RecurrBinSearch(L, x, low, high):\n",
    "    mid = (low+high)//2\n",
    "    if low > high:\n",
    "        print('Not found')\n",
    "    if L[mid] == x:\n",
    "        print('Index: {}'.format(mid))\n",
    "    if L[mid] != x and low <= high:\n",
    "        if L[mid] < x:\n",
    "            RecurrBinSearch(L, x, mid+1, high)\n",
    "        else:\n",
    "            RecurrBinSearch(L, x, low, mid-1)\n",
    "\n",
    "BinSearch(A, x)\n",
    "RecurrBinSearch(A, x, low, high)"
   ]
  },
  {
   "cell_type": "markdown",
   "metadata": {},
   "source": [
    "# Упражнение 2. Поиск точки максимума в целых числах\n",
    "\n",
    "По целому $c \\ge 1$ найдите целое $a$, при котором $a^{c-a}$ максимально. Используйте бинарный поиск."
   ]
  },
  {
   "cell_type": "code",
   "execution_count": 4,
   "metadata": {},
   "outputs": [
    {
     "name": "stdout",
     "output_type": "stream",
     "text": [
      "5\n",
      "[0, 1, 8, 9, 4]\n",
      "3\n"
     ]
    }
   ],
   "source": [
    "c = int(input())\n",
    "    \n",
    "# Максимальное значение будет лежать в интервале a = [0, c]\n",
    "# После a == c искать не имеет смысла\n",
    "\n",
    "# Создадим список, в котором будут лежать все значения a**(c-a),\n",
    "# и найдем максимальное значение\n",
    "L = [a**(c-a) for a in range(c)]\n",
    "print(L)\n",
    "m = max(L)\n",
    "for idx, elem in enumerate(L):\n",
    "    if elem == m:\n",
    "        print(idx)"
   ]
  },
  {
   "cell_type": "code",
   "execution_count": 7,
   "metadata": {},
   "outputs": [
    {
     "name": "stdout",
     "output_type": "stream",
     "text": [
      "5\n",
      "3\n"
     ]
    }
   ],
   "source": [
    "c = int(input())\n",
    "L = [a**(c-a) for a in range(c)]\n",
    "idx_left = 0\n",
    "idx_right = len(L)-1\n",
    "idx_mid = (idx_left + idx_right) // 2\n",
    "while max(L[idx_mid-1], L[idx_mid], L[idx_mid+1]) != L[idx_mid]:\n",
    "    if L[idx_mid-1] > L[idx_mid]:\n",
    "        idx_right = idx_mid\n",
    "    else:\n",
    "        idx_left = idx_mid\n",
    "    idx_mid = (idx_left + idx_right) // 2\n",
    "print(idx_mid)"
   ]
  },
  {
   "cell_type": "markdown",
   "metadata": {},
   "source": [
    "# Упражнение 3. $k$-й по величине элемент\n",
    "\n",
    "Найти $k$-е по величине значение в массиве из $N$ элементов (не сортируя массив полностью). Если сами не придумаете, есть подсказка к задаче 5.6 на стр. 438 в [1]."
   ]
  },
  {
   "cell_type": "code",
   "execution_count": 31,
   "metadata": {},
   "outputs": [
    {
     "name": "stdout",
     "output_type": "stream",
     "text": [
      "[17, 86, 59, 76, 4, 29, 90, 45, 54, 92, 3, 44, 69, 98, 39]\n",
      "90\n",
      "6 14\n",
      "9 14\n",
      "9 12\n",
      "12 12\n",
      "[17, 86, 59, 76, 4, 29, 39, 45, 54, 69, 3, 44, 90, 98, 92]\n",
      "[17, 86, 59, 76, 4, 29]\n",
      "[39, 45, 54, 69, 3, 44, 90, 98, 92]\n"
     ]
    }
   ],
   "source": [
    "#A = [int(i) for i in input().split()]\n",
    "A = [3, 2, 3, 7, 1, 8, 6, 6, 6, 6, -1, 5]\n",
    "#k = int(input())\n",
    "\n",
    "def quick_search(A, k):\n",
    "#выбираем индекс опорного элемента\n",
    "    n = len(A)//2 - 1\n",
    "    pivot = A[n]\n",
    "# Необходимо в начале массива собрать элементы, меньше опорного,\n",
    "# а в конце - больше опорного\n",
    "    i = 0\n",
    "    j = len(A) - 1\n",
    "    left = []\n",
    "    pivots = []\n",
    "    right = []\n",
    "    for i in A:\n",
    "        if i < pivot:\n",
    "            left.append(i)\n",
    "        elif i == pivot:\n",
    "            pivots.append(i)\n",
    "        else:\n",
    "            right.append(i)\n",
    "    if k < len(left):\n",
    "        return quick_search(left, k)\n",
    "    elif k < len(left) + len(pivots):\n",
    "        return pivot\n",
    "    else:\n",
    "        return quick_search(right, k-len(left)-len(pivots))\n",
    "\n",
    "for k in range(len(A)):\n",
    "    print(quick_search(A, k))"
   ]
  },
  {
   "cell_type": "markdown",
   "metadata": {},
   "source": [
    "# Упражнение 4. Разбиение Ломуто\n",
    "\n",
    "Реализуйте быструю сортировку на основе [разбиения Ломуто](https://en.wikipedia.org/wiki/Quicksort#Lomuto_partition_scheme)."
   ]
  },
  {
   "cell_type": "code",
   "execution_count": 15,
   "metadata": {},
   "outputs": [
    {
     "name": "stdout",
     "output_type": "stream",
     "text": [
      "3 6 2 8 4 1\n"
     ]
    },
    {
     "data": {
      "text/plain": [
       "[1, 2, 3, 4, 6, 8]"
      ]
     },
     "execution_count": 15,
     "metadata": {},
     "output_type": "execute_result"
    }
   ],
   "source": [
    "def LomutoQsort(L, low, high):\n",
    "    if low < high:\n",
    "        p = partition(L, low, high)\n",
    "        LomutoQsort(L, low, p-1)\n",
    "        LomutoQsort(L, p+1, high)\n",
    "    return L\n",
    "\n",
    "def partition(L, low, high):\n",
    "    pivot = L[high]\n",
    "    i = low #Индекс эл-та, меньшего или равного опорному\n",
    "    for j in range(low, high):\n",
    "        if L[j] <= pivot:\n",
    "            L[i], L[j] = L[j], L[i]\n",
    "            i = i+1\n",
    "    L[i], L[high] = L[high], L[i]\n",
    "    return i\n",
    "\n",
    "L = [int(i) for i in input().split()]\n",
    "LomutoQsort(L, 0, len(L) - 1)"
   ]
  },
  {
   "cell_type": "markdown",
   "metadata": {},
   "source": [
    "# Упражнение 5. Задача флага Нидерландов\n",
    "\n",
    "Пусть есть массив, элементы которого равны одному из чисел 0, 1, 2. Как упорядочить такой массив возрастанию в один проход?<br>\n",
    "Попробуйте придумать решение самостоятельно, а затем сравните с алгоритмом, описанном [здесь](https://neerc.ifmo.ru/wiki/index.php?title=Dutch_national_flag_problem). Реализуйте быструю сортировку на основе описанного разбиения. Функция `partition()` должна разбивать массив на 3 части: в первой должны быть элементы меньше опорного, во второй - равные опорному, в третей - элементы больше опорного.\n",
    "\n",
    "> [Здесь](https://algs4.cs.princeton.edu/lectures/23DemoPartitioning.pdf) есть демонстрация работы разбиения под названием \"Dijkstra 3-way partitioning\" \n",
    "\n",
    "> Запись `++` может обозначать либо префиксный, либо постфиксный инкремент, в зависимости от того, где расположен операнд. Инструкция\n",
    "```c++\n",
    "a = ++i\n",
    "```\n",
    "содержит оператор \"префиксный инкремент\", который сначала увеличивает `i` на 1, а затем возвращает значение `i`. Например, если `i == 0`, то после выполнения инструкции `i == 1`, `a == 1`. В следующем фрагменте показан постфиксный инкремент.\n",
    "```c++\n",
    "a = i++\n",
    "```\n",
    "В этом случае сначала возвращается значение `i` до увеличения, а затем уже выполняется увеличение `i` на 1. Пусть `i == 0`, тогда в конце получится `i == 1`, `a == 0`.\n",
    "\n",
    "> Перед тем обменивать "
   ]
  },
  {
   "cell_type": "code",
   "execution_count": 12,
   "metadata": {},
   "outputs": [
    {
     "name": "stdout",
     "output_type": "stream",
     "text": [
      "[0, 0, 0, 0, 0, 1, 1, 1, 2, 2, 2, 2, 2]\n"
     ]
    }
   ],
   "source": [
    "L = [0, 2, 1, 2, 0, 0, 1, 2, 0, 2, 2, 1, 0]\n",
    "lo, mid, hi = 0, 0, len(L)-1\n",
    "while mid <= hi:\n",
    "    if L[mid] == 0:\n",
    "        L[lo], L[mid] = L[mid], L[lo]\n",
    "        lo += 1\n",
    "        mid += 1\n",
    "    elif L[mid] ==1:\n",
    "        mid += 1\n",
    "    else:\n",
    "        L[mid], L[hi] = L[hi], L[mid]\n",
    "        hi -= 1\n",
    "print(L)"
   ]
  },
  {
   "cell_type": "code",
   "execution_count": 1,
   "metadata": {},
   "outputs": [
    {
     "ename": "RecursionError",
     "evalue": "maximum recursion depth exceeded in comparison",
     "output_type": "error",
     "traceback": [
      "\u001b[1;31m---------------------------------------------------------------------------\u001b[0m",
      "\u001b[1;31mRecursionError\u001b[0m                            Traceback (most recent call last)",
      "\u001b[1;32m<ipython-input-1-0db6a7ed517d>\u001b[0m in \u001b[0;36m<module>\u001b[1;34m\u001b[0m\n\u001b[0;32m     29\u001b[0m \u001b[0mL\u001b[0m \u001b[1;33m=\u001b[0m \u001b[1;33m[\u001b[0m\u001b[1;36m0\u001b[0m\u001b[1;33m,\u001b[0m \u001b[1;36m2\u001b[0m\u001b[1;33m,\u001b[0m \u001b[1;36m1\u001b[0m\u001b[1;33m,\u001b[0m \u001b[1;36m2\u001b[0m\u001b[1;33m,\u001b[0m \u001b[1;36m0\u001b[0m\u001b[1;33m,\u001b[0m \u001b[1;36m0\u001b[0m\u001b[1;33m,\u001b[0m \u001b[1;36m1\u001b[0m\u001b[1;33m,\u001b[0m \u001b[1;36m2\u001b[0m\u001b[1;33m,\u001b[0m \u001b[1;36m0\u001b[0m\u001b[1;33m,\u001b[0m \u001b[1;36m2\u001b[0m\u001b[1;33m,\u001b[0m \u001b[1;36m2\u001b[0m\u001b[1;33m,\u001b[0m \u001b[1;36m1\u001b[0m\u001b[1;33m,\u001b[0m \u001b[1;36m0\u001b[0m\u001b[1;33m]\u001b[0m\u001b[1;33m\u001b[0m\u001b[1;33m\u001b[0m\u001b[0m\n\u001b[0;32m     30\u001b[0m \u001b[0mlo\u001b[0m\u001b[1;33m,\u001b[0m \u001b[0mhi\u001b[0m \u001b[1;33m=\u001b[0m \u001b[1;36m0\u001b[0m\u001b[1;33m,\u001b[0m \u001b[0mlen\u001b[0m\u001b[1;33m(\u001b[0m\u001b[0mL\u001b[0m\u001b[1;33m)\u001b[0m\u001b[1;33m-\u001b[0m\u001b[1;36m1\u001b[0m\u001b[1;33m\u001b[0m\u001b[1;33m\u001b[0m\u001b[0m\n\u001b[1;32m---> 31\u001b[1;33m \u001b[0mqsort\u001b[0m\u001b[1;33m(\u001b[0m\u001b[0mL\u001b[0m\u001b[1;33m,\u001b[0m \u001b[0mlo\u001b[0m\u001b[1;33m,\u001b[0m \u001b[0mhi\u001b[0m\u001b[1;33m)\u001b[0m\u001b[1;33m\u001b[0m\u001b[1;33m\u001b[0m\u001b[0m\n\u001b[0m\u001b[0;32m     32\u001b[0m \u001b[0mprint\u001b[0m\u001b[1;33m(\u001b[0m\u001b[0mL\u001b[0m\u001b[1;33m)\u001b[0m\u001b[1;33m\u001b[0m\u001b[1;33m\u001b[0m\u001b[0m\n",
      "\u001b[1;32m<ipython-input-1-0db6a7ed517d>\u001b[0m in \u001b[0;36mqsort\u001b[1;34m(L, lo, hi)\u001b[0m\n\u001b[0;32m     25\u001b[0m     \u001b[0mdijkstra_partition\u001b[0m\u001b[1;33m(\u001b[0m\u001b[0mL\u001b[0m\u001b[1;33m,\u001b[0m \u001b[0mlo\u001b[0m\u001b[1;33m,\u001b[0m \u001b[0mhi\u001b[0m\u001b[1;33m,\u001b[0m \u001b[0mi\u001b[0m\u001b[1;33m,\u001b[0m \u001b[0mj\u001b[0m\u001b[1;33m)\u001b[0m\u001b[1;33m\u001b[0m\u001b[1;33m\u001b[0m\u001b[0m\n\u001b[0;32m     26\u001b[0m     \u001b[0mqsort\u001b[0m\u001b[1;33m(\u001b[0m\u001b[0mL\u001b[0m\u001b[1;33m,\u001b[0m \u001b[0mlo\u001b[0m\u001b[1;33m,\u001b[0m \u001b[0mi\u001b[0m\u001b[1;33m)\u001b[0m\u001b[1;33m\u001b[0m\u001b[1;33m\u001b[0m\u001b[0m\n\u001b[1;32m---> 27\u001b[1;33m     \u001b[0mqsort\u001b[0m\u001b[1;33m(\u001b[0m\u001b[0mL\u001b[0m\u001b[1;33m,\u001b[0m \u001b[0mj\u001b[0m\u001b[1;33m,\u001b[0m \u001b[0mhi\u001b[0m\u001b[1;33m)\u001b[0m\u001b[1;33m\u001b[0m\u001b[1;33m\u001b[0m\u001b[0m\n\u001b[0m\u001b[0;32m     28\u001b[0m \u001b[1;33m\u001b[0m\u001b[0m\n\u001b[0;32m     29\u001b[0m \u001b[0mL\u001b[0m \u001b[1;33m=\u001b[0m \u001b[1;33m[\u001b[0m\u001b[1;36m0\u001b[0m\u001b[1;33m,\u001b[0m \u001b[1;36m2\u001b[0m\u001b[1;33m,\u001b[0m \u001b[1;36m1\u001b[0m\u001b[1;33m,\u001b[0m \u001b[1;36m2\u001b[0m\u001b[1;33m,\u001b[0m \u001b[1;36m0\u001b[0m\u001b[1;33m,\u001b[0m \u001b[1;36m0\u001b[0m\u001b[1;33m,\u001b[0m \u001b[1;36m1\u001b[0m\u001b[1;33m,\u001b[0m \u001b[1;36m2\u001b[0m\u001b[1;33m,\u001b[0m \u001b[1;36m0\u001b[0m\u001b[1;33m,\u001b[0m \u001b[1;36m2\u001b[0m\u001b[1;33m,\u001b[0m \u001b[1;36m2\u001b[0m\u001b[1;33m,\u001b[0m \u001b[1;36m1\u001b[0m\u001b[1;33m,\u001b[0m \u001b[1;36m0\u001b[0m\u001b[1;33m]\u001b[0m\u001b[1;33m\u001b[0m\u001b[1;33m\u001b[0m\u001b[0m\n",
      "... last 1 frames repeated, from the frame below ...\n",
      "\u001b[1;32m<ipython-input-1-0db6a7ed517d>\u001b[0m in \u001b[0;36mqsort\u001b[1;34m(L, lo, hi)\u001b[0m\n\u001b[0;32m     25\u001b[0m     \u001b[0mdijkstra_partition\u001b[0m\u001b[1;33m(\u001b[0m\u001b[0mL\u001b[0m\u001b[1;33m,\u001b[0m \u001b[0mlo\u001b[0m\u001b[1;33m,\u001b[0m \u001b[0mhi\u001b[0m\u001b[1;33m,\u001b[0m \u001b[0mi\u001b[0m\u001b[1;33m,\u001b[0m \u001b[0mj\u001b[0m\u001b[1;33m)\u001b[0m\u001b[1;33m\u001b[0m\u001b[1;33m\u001b[0m\u001b[0m\n\u001b[0;32m     26\u001b[0m     \u001b[0mqsort\u001b[0m\u001b[1;33m(\u001b[0m\u001b[0mL\u001b[0m\u001b[1;33m,\u001b[0m \u001b[0mlo\u001b[0m\u001b[1;33m,\u001b[0m \u001b[0mi\u001b[0m\u001b[1;33m)\u001b[0m\u001b[1;33m\u001b[0m\u001b[1;33m\u001b[0m\u001b[0m\n\u001b[1;32m---> 27\u001b[1;33m     \u001b[0mqsort\u001b[0m\u001b[1;33m(\u001b[0m\u001b[0mL\u001b[0m\u001b[1;33m,\u001b[0m \u001b[0mj\u001b[0m\u001b[1;33m,\u001b[0m \u001b[0mhi\u001b[0m\u001b[1;33m)\u001b[0m\u001b[1;33m\u001b[0m\u001b[1;33m\u001b[0m\u001b[0m\n\u001b[0m\u001b[0;32m     28\u001b[0m \u001b[1;33m\u001b[0m\u001b[0m\n\u001b[0;32m     29\u001b[0m \u001b[0mL\u001b[0m \u001b[1;33m=\u001b[0m \u001b[1;33m[\u001b[0m\u001b[1;36m0\u001b[0m\u001b[1;33m,\u001b[0m \u001b[1;36m2\u001b[0m\u001b[1;33m,\u001b[0m \u001b[1;36m1\u001b[0m\u001b[1;33m,\u001b[0m \u001b[1;36m2\u001b[0m\u001b[1;33m,\u001b[0m \u001b[1;36m0\u001b[0m\u001b[1;33m,\u001b[0m \u001b[1;36m0\u001b[0m\u001b[1;33m,\u001b[0m \u001b[1;36m1\u001b[0m\u001b[1;33m,\u001b[0m \u001b[1;36m2\u001b[0m\u001b[1;33m,\u001b[0m \u001b[1;36m0\u001b[0m\u001b[1;33m,\u001b[0m \u001b[1;36m2\u001b[0m\u001b[1;33m,\u001b[0m \u001b[1;36m2\u001b[0m\u001b[1;33m,\u001b[0m \u001b[1;36m1\u001b[0m\u001b[1;33m,\u001b[0m \u001b[1;36m0\u001b[0m\u001b[1;33m]\u001b[0m\u001b[1;33m\u001b[0m\u001b[1;33m\u001b[0m\u001b[0m\n",
      "\u001b[1;31mRecursionError\u001b[0m: maximum recursion depth exceeded in comparison"
     ]
    }
   ],
   "source": [
    "def dijkstra_partition(L, lo, hi, i, j):\n",
    "    if hi - lo <= 1:\n",
    "        if L[hi] < L[lo]:\n",
    "            L[hi], L[lo] = L[lo], L[hi]\n",
    "        i, j = lo, hi\n",
    "        return\n",
    "    mid = lo\n",
    "    pivot = L[hi]\n",
    "    while mid <= hi:\n",
    "        if L[mid] < pivot:\n",
    "            L[lo], L[mid] = L[mid], L[lo]\n",
    "            lo += 1\n",
    "            mid += 1\n",
    "        elif L[mid] == pivot:\n",
    "            mid += 1\n",
    "        else:\n",
    "            L[mid], L[hi] = L[hi], L[mid]\n",
    "            hi -= 1\n",
    "    i, j = lo-1, mid\n",
    "\n",
    "def qsort(L, lo, hi):\n",
    "    if lo >= hi:\n",
    "        return\n",
    "    i, j = 0, 0\n",
    "    dijkstra_partition(L, lo, hi, i, j)\n",
    "    qsort(L, lo, i)\n",
    "    qsort(L, j, hi)\n",
    "    \n",
    "L = [0, 2, 1, 2, 0, 0, 1, 2, 0, 2, 2, 1, 0]\n",
    "lo, hi = 0, len(L)-1\n",
    "qsort(L, lo, hi)\n",
    "print(L)"
   ]
  },
  {
   "cell_type": "code",
   "execution_count": 9,
   "metadata": {},
   "outputs": [
    {
     "data": {
      "text/plain": [
       "459"
      ]
     },
     "execution_count": 9,
     "metadata": {},
     "output_type": "execute_result"
    }
   ],
   "source": [
    "random.randint(100, 1000)"
   ]
  },
  {
   "cell_type": "code",
   "execution_count": 10,
   "metadata": {},
   "outputs": [
    {
     "ename": "ValueError",
     "evalue": "Sample larger than population or is negative",
     "output_type": "error",
     "traceback": [
      "\u001b[1;31m---------------------------------------------------------------------------\u001b[0m",
      "\u001b[1;31mValueError\u001b[0m                                Traceback (most recent call last)",
      "\u001b[1;32m<ipython-input-10-619f4b245868>\u001b[0m in \u001b[0;36m<module>\u001b[1;34m\u001b[0m\n\u001b[0;32m      2\u001b[0m \u001b[0mpopulation\u001b[0m \u001b[1;33m=\u001b[0m \u001b[1;33m[\u001b[0m\u001b[1;36m0\u001b[0m\u001b[1;33m,\u001b[0m \u001b[1;36m1\u001b[0m\u001b[1;33m,\u001b[0m \u001b[1;36m2\u001b[0m\u001b[1;33m]\u001b[0m\u001b[1;33m\u001b[0m\u001b[1;33m\u001b[0m\u001b[0m\n\u001b[0;32m      3\u001b[0m \u001b[0mN\u001b[0m \u001b[1;33m=\u001b[0m \u001b[0mrandom\u001b[0m\u001b[1;33m.\u001b[0m\u001b[0mrandint\u001b[0m\u001b[1;33m(\u001b[0m\u001b[1;36m10\u001b[0m\u001b[1;33m,\u001b[0m \u001b[1;36m20\u001b[0m\u001b[1;33m)\u001b[0m\u001b[1;33m\u001b[0m\u001b[1;33m\u001b[0m\u001b[0m\n\u001b[1;32m----> 4\u001b[1;33m \u001b[0mL\u001b[0m \u001b[1;33m=\u001b[0m \u001b[0mrandom\u001b[0m\u001b[1;33m.\u001b[0m\u001b[0msample\u001b[0m\u001b[1;33m(\u001b[0m\u001b[0mpopulation\u001b[0m\u001b[1;33m,\u001b[0m \u001b[0mN\u001b[0m\u001b[1;33m)\u001b[0m\u001b[1;33m\u001b[0m\u001b[1;33m\u001b[0m\u001b[0m\n\u001b[0m\u001b[0;32m      5\u001b[0m \u001b[0mprint\u001b[0m\u001b[1;33m(\u001b[0m\u001b[0mL\u001b[0m\u001b[1;33m)\u001b[0m\u001b[1;33m\u001b[0m\u001b[1;33m\u001b[0m\u001b[0m\n",
      "\u001b[1;32m~\\Anaconda3\\lib\\random.py\u001b[0m in \u001b[0;36msample\u001b[1;34m(self, population, k)\u001b[0m\n\u001b[0;32m    319\u001b[0m         \u001b[0mn\u001b[0m \u001b[1;33m=\u001b[0m \u001b[0mlen\u001b[0m\u001b[1;33m(\u001b[0m\u001b[0mpopulation\u001b[0m\u001b[1;33m)\u001b[0m\u001b[1;33m\u001b[0m\u001b[1;33m\u001b[0m\u001b[0m\n\u001b[0;32m    320\u001b[0m         \u001b[1;32mif\u001b[0m \u001b[1;32mnot\u001b[0m \u001b[1;36m0\u001b[0m \u001b[1;33m<=\u001b[0m \u001b[0mk\u001b[0m \u001b[1;33m<=\u001b[0m \u001b[0mn\u001b[0m\u001b[1;33m:\u001b[0m\u001b[1;33m\u001b[0m\u001b[1;33m\u001b[0m\u001b[0m\n\u001b[1;32m--> 321\u001b[1;33m             \u001b[1;32mraise\u001b[0m \u001b[0mValueError\u001b[0m\u001b[1;33m(\u001b[0m\u001b[1;34m\"Sample larger than population or is negative\"\u001b[0m\u001b[1;33m)\u001b[0m\u001b[1;33m\u001b[0m\u001b[1;33m\u001b[0m\u001b[0m\n\u001b[0m\u001b[0;32m    322\u001b[0m         \u001b[0mresult\u001b[0m \u001b[1;33m=\u001b[0m \u001b[1;33m[\u001b[0m\u001b[1;32mNone\u001b[0m\u001b[1;33m]\u001b[0m \u001b[1;33m*\u001b[0m \u001b[0mk\u001b[0m\u001b[1;33m\u001b[0m\u001b[1;33m\u001b[0m\u001b[0m\n\u001b[0;32m    323\u001b[0m         \u001b[0msetsize\u001b[0m \u001b[1;33m=\u001b[0m \u001b[1;36m21\u001b[0m        \u001b[1;31m# size of a small set minus size of an empty list\u001b[0m\u001b[1;33m\u001b[0m\u001b[1;33m\u001b[0m\u001b[0m\n",
      "\u001b[1;31mValueError\u001b[0m: Sample larger than population or is negative"
     ]
    }
   ],
   "source": [
    "import random\n",
    "population = [0, 1, 2]\n",
    "N = random.randint(10, 20)\n",
    "L = random.sample(population, N)\n",
    "print(L)"
   ]
  },
  {
   "cell_type": "markdown",
   "metadata": {},
   "source": [
    "# Упражнение 6. Быстрая сортировка на 2-х опорных элементах (dual pivot quicksort)\n",
    "\n",
    "Есть улучшенная версия разбиения из упражнения 5. Выбираются **2** различных опорных элемента, и меньший из которых $p_1$ располагается в начале массива, а больший $p_2$ в конце массива. Если такие опорные элементы не удалось выбрать, то массив состоит из одинаковых элементов и уже отсортирован. Далее элементы, находящиеся между опорными распределяются, как в упражнении 5, но в центральную часть попадают элементы, чье значение $v$ удовлетворяет неравенствам $p_1 \\le v \\le p_2$. После распределения опорные элементы $p_1$ и $p_2$ присоединяются к центральной части соответственно с начала и с конца. \n",
    "\n",
    "Реализация на C есть [тут](https://www.geeksforgeeks.org/dual-pivot-quicksort/)\n",
    "\n",
    "> [Здесь](https://algs4.cs.princeton.edu/lectures/23DemoPartitioning.pdf) есть демонстрация работы разбиения под названием \"dual-pivot partitioning\" "
   ]
  },
  {
   "cell_type": "code",
   "execution_count": 4,
   "metadata": {},
   "outputs": [
    {
     "name": "stdout",
     "output_type": "stream",
     "text": [
      "[5, 3]\n"
     ]
    }
   ],
   "source": [
    "def swap(a, b):\n",
    "    temp = a\n",
    "    a = b\n",
    "    b = temp\n",
    "    \n",
    "L = [5, 3]\n",
    "swap(L[0], L[1])\n",
    "print(L)"
   ]
  },
  {
   "cell_type": "code",
   "execution_count": 15,
   "metadata": {},
   "outputs": [
    {
     "name": "stdout",
     "output_type": "stream",
     "text": [
      "[4, 39, 24, 90, 86, 67, 16, 1, 21, 14, 87, 8, 82, 53, 51, 26, 10, 59]\n",
      "[1, 4, 8, 10, 14, 16, 21, 24, 26, 51, 53, 39, 59, 67, 86, 87, 90, 82]\n"
     ]
    }
   ],
   "source": [
    "def dual_pivot_partition(L, lo, hi):\n",
    "    if L[lo] > L[hi]:\n",
    "        L[lo], L[hi] = L[hi], L[lo]\n",
    "    lp, rp = lo + 1, hi - 1\n",
    "    # p - left pivot, q - right pivot\n",
    "    p, q = L[lo], L[hi]\n",
    "    for k in range(lo+1, hi):\n",
    "        if L[k] < p:\n",
    "            L[lp], L[k] = L[k], L[lp]\n",
    "            lp += 1\n",
    "        elif L[k] >= q:\n",
    "            while L[rp] > q and rp > k:\n",
    "                rp -= 1\n",
    "            L[rp], L[k] = L[k], L[rp]\n",
    "            rp -= 1\n",
    "        if L[k] < p:\n",
    "            L[k], L[lp] = L[lp], L[k]\n",
    "            lp += 1\n",
    "        if k >= rp:\n",
    "            break\n",
    "    lp -= 1\n",
    "    rp += 1\n",
    "    # возвращаем опорные элементы на необходимые позиции\n",
    "    L[lo], L[lp] = L[lp], L[lo]\n",
    "    L[hi], L[rp] = L[rp], L[hi]\n",
    "    return lp, rp\n",
    "    \n",
    "    \n",
    "\n",
    "def dual_pivot_qsort(L, lo, hi):\n",
    "    if lo < hi:\n",
    "        lp, rp = dual_pivot_partition(L, lo, hi)\n",
    "        dual_pivot_qsort(L, lo, lp-1)\n",
    "        dual_pivot_qsort(L, lp+1, rp-1)\n",
    "        dual_pivot_qsort(L, rp+1, hi)\n",
    "        \n",
    "import random\n",
    "N = random.randint(10, 20)\n",
    "L = random.sample(range(100), N)\n",
    "dual_pivot_qsort(L, 0, N-1)\n",
    "print(L)"
   ]
  },
  {
   "cell_type": "markdown",
   "metadata": {},
   "source": [
    "# Упражнение 7. Упорядоченные множества\n",
    "\n",
    "Два множества целых чисел через пробел записаны в файлах <font color=green>set1.txt</font> и <font color=green>set2.txt</font> в порядке возрастания. Создайте из них третье множество чисел и запишите его в файл в порядке возрастания.\n",
    "\n",
    "Напишите код для создания третьего множества каждым из перечисленных способов:\n",
    "\n",
    "1. объединение,\n",
    "\n",
    "- пересечение,\n",
    "\n",
    "- разность,\n",
    "\n",
    "- симметричная разность.\n",
    "\n",
    "Алгоритм должен быть однопроходным. Не используйте объекты типа `set`."
   ]
  },
  {
   "cell_type": "code",
   "execution_count": null,
   "metadata": {
    "collapsed": true
   },
   "outputs": [],
   "source": []
  },
  {
   "cell_type": "markdown",
   "metadata": {},
   "source": [
    "# Упражнение 8.  Top down merge sort\n",
    "\n",
    "Напишите рекурсивный вариант сортировки слиянием. Отталкивайтесь кода C, приведенного [тут](https://en.wikipedia.org/wiki/Merge_sort)."
   ]
  },
  {
   "cell_type": "code",
   "execution_count": null,
   "metadata": {
    "collapsed": true
   },
   "outputs": [],
   "source": [
    "#НЕ ВКЛЮЧАТЬ, СОВСЕМ НЕ РОБИТ, ВСЕ ЛОМАЕТ\n",
    "\n",
    "\n",
    "# Список А содержит элементы, которые необходимо отсортировать;\n",
    "# B - рабочий список\n",
    "\n",
    "A = [int(i) for i in input().split()]\n",
    "B = [0]*len(A)\n",
    "n = len(A)\n",
    "\n",
    "def TopDownMergeSort(A, B, n):\n",
    "    # Скопируем массив A в массив B\n",
    "    A[:] = B[:]\n",
    "    TopDownSplitMerge(B, 0, n, A)\n",
    "    \n",
    "def TopDownSplitMerge(B, iBegin, iEnd, A):\n",
    "    if (iEnd-iBegin) < 2: #если длина списка == 1, то он отсортирован\n",
    "        return\n",
    "    iMid = (iEnd-iBegin)//2\n",
    "    TopDownSplitMerge(A, iBegin, iMid, B) #сортируем левую часть\n",
    "    TopDownSplitMerge(A, iMid, iEnd, B)   #сортируем правую часть\n",
    "    TopDownMerge(B, iBegin, iMid, iEnd, A)\n",
    "    \n",
    "def TopDownMerge(A, iBegin, iMid, iEnd, B):\n",
    "    i, j = iBegin, iMid\n",
    "    k = iBegin\n",
    "    while k < iEnd:\n",
    "        if i < iMid and(j <= iEnd or A[i] <= A[j]):\n",
    "            B[k] = A[i]\n",
    "            i += 1\n",
    "        else:\n",
    "            B[k] = A[j]\n",
    "            j += 1\n",
    "        k += 1\n",
    "\n",
    "TopDownMergeSort(A, B, n)\n",
    "print(A)"
   ]
  }
 ],
 "metadata": {
  "kernelspec": {
   "display_name": "Python 3",
   "language": "python",
   "name": "python3"
  },
  "language_info": {
   "codemirror_mode": {
    "name": "ipython",
    "version": 3
   },
   "file_extension": ".py",
   "mimetype": "text/x-python",
   "name": "python",
   "nbconvert_exporter": "python",
   "pygments_lexer": "ipython3",
   "version": "3.7.1"
  }
 },
 "nbformat": 4,
 "nbformat_minor": 2
}
