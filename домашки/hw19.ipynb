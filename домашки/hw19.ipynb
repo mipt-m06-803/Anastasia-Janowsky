{
 "cells": [
  {
   "cell_type": "markdown",
   "metadata": {},
   "source": [
    "# Упражнение 1. Максимальное произведение\n",
    "\n",
    "На вход подается число $N > 1$, а затем $N$ чисел: каждое в отдельной строке. Найдите среди введенных чисел два числа, дающих максимальное произведение. Решите задачу в 1 проход, не сохраняя все введенные числа."
   ]
  },
  {
   "cell_type": "code",
   "execution_count": 2,
   "metadata": {},
   "outputs": [
    {
     "name": "stdout",
     "output_type": "stream",
     "text": [
      "5\n",
      "3\n",
      "8\n",
      "2\n",
      "7\n",
      "1\n",
      "Наибольшее произведение дадут числа 8 и 7: 56\n"
     ]
    }
   ],
   "source": [
    "N = int(input())\n",
    "max1 = int(input())\n",
    "max2 = int(input())\n",
    "if max2 > max1:\n",
    "    max1, max2 = max2, max1 \n",
    "for _ in range(N-2):\n",
    "    num = int(input())\n",
    "    if num > max2 and num < max1:\n",
    "        max2 = num\n",
    "    elif num > max1:\n",
    "        max1, max2 = num, max1\n",
    "print('Наибольшее произведение дадут числа {} и {}: {}'.format(max1, max2, max1*max2))"
   ]
  },
  {
   "cell_type": "markdown",
   "metadata": {},
   "source": [
    "# Упражнение 2. Максимальное произведение 3-х чисел\n",
    "\n",
    "Из последовательности целых чисел выбрать 3 числа, произведение которых максимально\n",
    "\n",
    "*Вход.* В первой строке текста - количество чисел $N$, $3 \\leq N \\leq 10^8$, в следующих $N$ строках - целые числа.\n",
    "\n",
    "*Выход.* Три числа в произвольном порядке.\n",
    "\n",
    "Есть указания к решению в <font color=blue>[1]</font>."
   ]
  },
  {
   "cell_type": "code",
   "execution_count": 3,
   "metadata": {},
   "outputs": [
    {
     "name": "stdout",
     "output_type": "stream",
     "text": [
      "6\n",
      "5\n",
      "8\n",
      "3\n",
      "7\n",
      "2\n",
      "5\n",
      "8 7 5\n"
     ]
    }
   ],
   "source": [
    "N = int(input())\n",
    "max1 = int(input())\n",
    "max2 = int(input())\n",
    "if max2 > max1:\n",
    "    max1, max2 = max2, max1\n",
    "max3 = int(input())\n",
    "if max3 > max1:\n",
    "    max1, max2, max3 = max3, max1, max2\n",
    "elif max3 > max2 and max3 < max1:\n",
    "    max2, max3 = max3, max2\n",
    "for _ in range(N-3):\n",
    "    num = int(input())\n",
    "    if num > max1:\n",
    "        max1, max2, max3 = num, max1, max2\n",
    "    elif num > max2 and num < max1:\n",
    "        max2, max3 = num, max2\n",
    "    elif num > max3 and num < max2:\n",
    "        max3 = num\n",
    "print(max1, max2, max3)"
   ]
  }
 ],
 "metadata": {
  "kernelspec": {
   "display_name": "Python 3",
   "language": "python",
   "name": "python3"
  },
  "language_info": {
   "codemirror_mode": {
    "name": "ipython",
    "version": 3
   },
   "file_extension": ".py",
   "mimetype": "text/x-python",
   "name": "python",
   "nbconvert_exporter": "python",
   "pygments_lexer": "ipython3",
   "version": "3.7.0"
  }
 },
 "nbformat": 4,
 "nbformat_minor": 2
}
