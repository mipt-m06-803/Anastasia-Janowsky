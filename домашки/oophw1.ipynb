{
 "cells": [
  {
   "cell_type": "markdown",
   "metadata": {
    "collapsed": true
   },
   "source": [
    "# Упражнение 1. Объединение файлов\n",
    "\n",
    "Напишите скрипт <font color=green>unite.py</font>, который объединяет несколько текстовых файлов в один файл. Первым аргументом скрипта должно быть им выходного файла, а далее должны следовать имена входных файлов в том порядке, в котором их следует объединить.\n",
    "\n",
    "#### Примеры использования скрипта\n",
    "\n",
    "```bash\n",
    "python3 unite.py output_file.txt f1.txt f2.txt f3.txt\n",
    "python3 unite.py output_file.txt *  # объединить все файлы в текущей директории.\n",
    "```\n",
    "\n",
    "Если у Вас Windows и программа не запускается из cmd.exe во втором варианте (со звездочкой), исполльзуйте powershell."
   ]
  },
  {
   "cell_type": "code",
   "execution_count": 1,
   "metadata": {},
   "outputs": [],
   "source": [
    "import sys\n",
    "import os\n",
    "\n",
    "\n",
    "def file_unition(output_name, *args):\n",
    "    out = open(output_name, 'w+')\n",
    "    for input_file in args:  # Сейчас это - список с элементами вида 'fn.txt'\n",
    "        for name in input_file:\n",
    "            if name == '*':  # Если на входе была подана *\n",
    "                txtlist = [txt_file for txt_file in os.listdir() if txt_file[-4:] == '.txt']\n",
    "                for name in txtlist:\n",
    "                    inp = open(name, 'r')\n",
    "                    for text in inp:\n",
    "                        out.write(text)\n",
    "                    inp.close()\n",
    "            else:\n",
    "                inp = open(name, 'r')\n",
    "                for text in inp:\n",
    "                    out.write(text)\n",
    "                inp.close()\n",
    "            out.write('\\n')\n",
    "    out.close()\n",
    "\n",
    "\n",
    "file_unition(sys.argv[1], sys.argv[2:])"
   ]
  },
  {
   "cell_type": "markdown",
   "metadata": {},
   "source": [
    "# Упражнение 2. Перемещение файла\n",
    "\n",
    "Напишите скрипт <font color=green>move.py</font>, который будет перемещать (переименовывать) файл.\n",
    "\n",
    "#### Примеры использования скрипта\n",
    "\n",
    "```bash\n",
    "python3 move.py old_file_name new_file_name\n",
    "```\n",
    "\n",
    "Если у Вас Windows и программа не запускается из cmd.exe во втором варианте (со звездочкой), исполльзуйте powershell."
   ]
  },
  {
   "cell_type": "code",
   "execution_count": null,
   "metadata": {
    "collapsed": true
   },
   "outputs": [],
   "source": [
    "import sys\n",
    "import os\n",
    "\n",
    "\n",
    "def move(old_file_name, new_file_name):\n",
    "    os.rename(old_file_name, new_file_name)\n",
    "\n",
    "\n",
    "move(sys.argv[1], sys.argv[2])"
   ]
  },
  {
   "cell_type": "markdown",
   "metadata": {},
   "source": [
    "# Упражнение 3. Среднее и дисперсия\n",
    "\n",
    "Напишите скрипт <font color=green>moments.py</font> который будет вычислять среднее и несмещенную оценку дисперсии выборки, содержащейся в первом файле, и записывать их во второй файл. \n",
    "\n",
    "#### Примеры использования скрипта\n",
    "\n",
    "```bash\n",
    "python3 moments.py data.txt moments.txt\n",
    "```\n",
    "\n",
    "Данные в файле с данными и в файле результами разделяются симовлом \"новая строка\" `'\\n'`.\n",
    "\n",
    "Если у Вас Windows и программа не запускается из cmd.exe во втором варианте (со звездочкой), исполльзуйте powershell."
   ]
  },
  {
   "cell_type": "code",
   "execution_count": null,
   "metadata": {},
   "outputs": [],
   "source": [
    "import sys\n",
    "\n",
    "def moments(L):\n",
    "    first_sum = 0\n",
    "    second_sum = 0\n",
    "    for i in L:\n",
    "        first_sum += int(i)\n",
    "    first_moment = first_sum/len(L)  # Математическое ожидание\n",
    "    for i in L:\n",
    "        second_sum += (int(i) - first_moment)\n",
    "    second_moment = (1/len(L)) * second_sum  # Выборочная дисперсия\n",
    "    return first_moment, second_moment\n",
    "\n",
    "input_name, output_name = sys.argv[1], sys.argv[2]\n",
    "with open(input_name, 'r') as input_file:\n",
    "    data = input_file.read().split('\\n')\n",
    "\n",
    "e_moment, d_moment = moments(data)\n",
    "\n",
    "with open(output_name, 'w') as output_file:\n",
    "    output_file.write(str(e_moment) + '\\n' + str(d_moment))"
   ]
  },
  {
   "cell_type": "markdown",
   "metadata": {},
   "source": [
    "# <font color=green>Стандартные потоки</font>\n",
    "\n",
    "При запуске терминала `bash` или `powershell` автоматически создаются 3 файловых дескриптора `stdin`, `stdout`, `stderr`. Эти файловые дексрипторы изначально не связаны с какими-либо файлами в файловой системе. Они используются программами, запускаемыми в консоли, для ввода текста с клавиатуры и вывода информации в эту консоль. Это происходит так: при запуске приложение получает в свое распоряжение перечисленные файловые дескрипторы. `stdin`, `stdout`, `stderr` называют стандартными потоками ввода-вывода (std происходит от standard).  \n",
    "\n",
    "1. `stdin` - поток, который используется для считывания информации из консоли. Например, у Вас есть скрипт <font color=green>name.py</font> с кодом\n",
    "```python\n",
    "print(\"What is your name?\")\n",
    "name = input()\n",
    "```\n",
    "который запускается из консоли командой\n",
    "```bash\n",
    "python3 name.py\n",
    "```\n",
    "Когда интерпретатор доберется до инструкции\n",
    "```python\n",
    "name=input()\n",
    "```\n",
    "он предложит пользователю записать строку в поток ввода `stdin`.\n",
    "\n",
    "2. `stdout` - поток, который используется программой для вывода результатов своей работы. В примере со скриптом <font color=green>name.py</font> выполнение инструкции `print(\"What is your name?\")` привело к тому, что в `stdout` была записана строка `\"What is your name?\"`. Если поток `stdout` направлен в консоль, то текст отобразиться в ней. О том, как настраивать потоки будет сказано ниже. \n",
    "\n",
    "3. `stderr` - стандартный вывод ошибок и нужен для вывода в консоль сообщений об ошибках. Он работает также, как и `stdout`, но является отдельным потоком.\n",
    "\n",
    "В `python` стандартные потоки доступны в модуле `sys` под именами `sys.stdin`, `sys.stdout`, `sys.stderr`. Технически они являются **обыкновенными файловыми объектами**.\n",
    "\n",
    "### Пример 1. Использование стандартных потоков в Python"
   ]
  },
  {
   "cell_type": "code",
   "execution_count": 15,
   "metadata": {},
   "outputs": [
    {
     "name": "stdout",
     "output_type": "stream",
     "text": [
      "Hello stdout"
     ]
    },
    {
     "name": "stderr",
     "output_type": "stream",
     "text": [
      "Hello stderr"
     ]
    },
    {
     "ename": "UnsupportedOperation",
     "evalue": "not writable",
     "output_type": "error",
     "traceback": [
      "\u001b[1;31m---------------------------------------------------------------------------\u001b[0m",
      "\u001b[1;31mUnsupportedOperation\u001b[0m                      Traceback (most recent call last)",
      "\u001b[1;32m<ipython-input-15-f5c43db403a2>\u001b[0m in \u001b[0;36m<module>\u001b[1;34m\u001b[0m\n\u001b[0;32m      2\u001b[0m \u001b[0msys\u001b[0m\u001b[1;33m.\u001b[0m\u001b[0mstdout\u001b[0m\u001b[1;33m.\u001b[0m\u001b[0mwrite\u001b[0m\u001b[1;33m(\u001b[0m\u001b[1;34m\"Hello stdout\"\u001b[0m\u001b[1;33m)\u001b[0m\u001b[1;33m\u001b[0m\u001b[1;33m\u001b[0m\u001b[0m\n\u001b[0;32m      3\u001b[0m \u001b[0msys\u001b[0m\u001b[1;33m.\u001b[0m\u001b[0mstderr\u001b[0m\u001b[1;33m.\u001b[0m\u001b[0mwrite\u001b[0m\u001b[1;33m(\u001b[0m\u001b[1;34m\"Hello stderr\"\u001b[0m\u001b[1;33m)\u001b[0m\u001b[1;33m\u001b[0m\u001b[1;33m\u001b[0m\u001b[0m\n\u001b[1;32m----> 4\u001b[1;33m \u001b[0msys\u001b[0m\u001b[1;33m.\u001b[0m\u001b[0mstdin\u001b[0m\u001b[1;33m.\u001b[0m\u001b[0mwrite\u001b[0m\u001b[1;33m(\u001b[0m\u001b[1;34m\"Hello stdin\"\u001b[0m\u001b[1;33m)\u001b[0m  \u001b[1;31m# Ошибка, так как sys.stdin открыт на чтение\u001b[0m\u001b[1;33m\u001b[0m\u001b[1;33m\u001b[0m\u001b[0m\n\u001b[0m",
      "\u001b[1;31mUnsupportedOperation\u001b[0m: not writable"
     ]
    }
   ],
   "source": [
    "import sys\n",
    "sys.stdout.write(\"Hello stdout\")\n",
    "sys.stderr.write(\"Hello stderr\")\n",
    "sys.stdin.write(\"Hello stdin\")  # Ошибка, так как sys.stdin открыт на чтение"
   ]
  },
  {
   "cell_type": "markdown",
   "metadata": {},
   "source": [
    "В последней строке мы получаем ошибку, так как `sys.stdin` открыт для чтения.\n",
    "Сравните с результатом выполнения следующего кода."
   ]
  },
  {
   "cell_type": "code",
   "execution_count": 17,
   "metadata": {},
   "outputs": [
    {
     "ename": "UnsupportedOperation",
     "evalue": "not writable",
     "output_type": "error",
     "traceback": [
      "\u001b[1;31m---------------------------------------------------------------------------\u001b[0m",
      "\u001b[1;31mUnsupportedOperation\u001b[0m                      Traceback (most recent call last)",
      "\u001b[1;32m<ipython-input-17-093ab798693c>\u001b[0m in \u001b[0;36m<module>\u001b[1;34m\u001b[0m\n\u001b[0;32m      2\u001b[0m \u001b[0mf\u001b[0m\u001b[1;33m.\u001b[0m\u001b[0mclose\u001b[0m\u001b[1;33m(\u001b[0m\u001b[1;33m)\u001b[0m\u001b[1;33m\u001b[0m\u001b[1;33m\u001b[0m\u001b[0m\n\u001b[0;32m      3\u001b[0m \u001b[1;32mwith\u001b[0m \u001b[0mopen\u001b[0m\u001b[1;33m(\u001b[0m\u001b[1;34m\"test_write.txt\"\u001b[0m\u001b[1;33m,\u001b[0m \u001b[1;34m'r'\u001b[0m\u001b[1;33m)\u001b[0m \u001b[1;32mas\u001b[0m \u001b[0mf\u001b[0m\u001b[1;33m:\u001b[0m\u001b[1;33m\u001b[0m\u001b[1;33m\u001b[0m\u001b[0m\n\u001b[1;32m----> 4\u001b[1;33m     \u001b[0mf\u001b[0m\u001b[1;33m.\u001b[0m\u001b[0mwrite\u001b[0m\u001b[1;33m(\u001b[0m\u001b[1;34m'try_write'\u001b[0m\u001b[1;33m)\u001b[0m\u001b[1;33m\u001b[0m\u001b[1;33m\u001b[0m\u001b[0m\n\u001b[0m",
      "\u001b[1;31mUnsupportedOperation\u001b[0m: not writable"
     ]
    }
   ],
   "source": [
    "f = open(\"test_write.txt\", 'w')\n",
    "f.close()\n",
    "with open(\"test_write.txt\", 'r') as f:\n",
    "    f.write('try_write')"
   ]
  },
  {
   "cell_type": "markdown",
   "metadata": {},
   "source": [
    "Попробуем считать данные из потоков."
   ]
  },
  {
   "cell_type": "code",
   "execution_count": 18,
   "metadata": {},
   "outputs": [
    {
     "name": "stdout",
     "output_type": "stream",
     "text": [
      "s = ''\n"
     ]
    },
    {
     "ename": "UnsupportedOperation",
     "evalue": "read",
     "output_type": "error",
     "traceback": [
      "\u001b[1;31m---------------------------------------------------------------------------\u001b[0m",
      "\u001b[1;31mUnsupportedOperation\u001b[0m                      Traceback (most recent call last)",
      "\u001b[1;32m<ipython-input-18-e5938b6d2fb2>\u001b[0m in \u001b[0;36m<module>\u001b[1;34m\u001b[0m\n\u001b[0;32m      2\u001b[0m \u001b[0ms\u001b[0m \u001b[1;33m=\u001b[0m \u001b[0msys\u001b[0m\u001b[1;33m.\u001b[0m\u001b[0mstdin\u001b[0m\u001b[1;33m.\u001b[0m\u001b[0mread\u001b[0m\u001b[1;33m(\u001b[0m\u001b[1;33m)\u001b[0m\u001b[1;33m\u001b[0m\u001b[1;33m\u001b[0m\u001b[0m\n\u001b[0;32m      3\u001b[0m \u001b[0mprint\u001b[0m\u001b[1;33m(\u001b[0m\u001b[1;34m\"s = '{}'\"\u001b[0m\u001b[1;33m.\u001b[0m\u001b[0mformat\u001b[0m\u001b[1;33m(\u001b[0m\u001b[0ms\u001b[0m\u001b[1;33m)\u001b[0m\u001b[1;33m)\u001b[0m\u001b[1;33m\u001b[0m\u001b[1;33m\u001b[0m\u001b[0m\n\u001b[1;32m----> 4\u001b[1;33m \u001b[0ms\u001b[0m \u001b[1;33m=\u001b[0m \u001b[0msys\u001b[0m\u001b[1;33m.\u001b[0m\u001b[0mstdout\u001b[0m\u001b[1;33m.\u001b[0m\u001b[0mread\u001b[0m\u001b[1;33m(\u001b[0m\u001b[1;33m)\u001b[0m  \u001b[1;31m# Ошибка, так как объект открыт для записи.\u001b[0m\u001b[1;33m\u001b[0m\u001b[1;33m\u001b[0m\u001b[0m\n\u001b[0m",
      "\u001b[1;31mUnsupportedOperation\u001b[0m: read"
     ]
    }
   ],
   "source": [
    "import sys\n",
    "s = sys.stdin.read()\n",
    "print(\"s = '{}'\".format(s))\n",
    "s = sys.stdout.read()  # Ошибка, так как объект открыт для записи."
   ]
  },
  {
   "cell_type": "markdown",
   "metadata": {},
   "source": [
    "Видно, что поток `stdin` пустой, а поток `stdout` не поддерживает чтение из него.\n",
    "\n",
    "***\n",
    "\n",
    "Для печати в `stderr` удобно использовать встроенную функцию `print()`."
   ]
  },
  {
   "cell_type": "code",
   "execution_count": 19,
   "metadata": {},
   "outputs": [
    {
     "name": "stderr",
     "output_type": "stream",
     "text": [
      "Warning! This is the first time I am printing into stderr.\n"
     ]
    }
   ],
   "source": [
    "import sys\n",
    "print(\"Warning! This is the first time I am printing into stderr.\", file=sys.stderr)"
   ]
  },
  {
   "cell_type": "markdown",
   "metadata": {},
   "source": [
    "***\n",
    "\n",
    "## <font color=blue>Управление потоками ввода-вывода</font>\n",
    "\n",
    "По умолчанию все три потока \"смотрят\" в консоль, но инструменты `bash` и `powershell` позволяют перенаправлять потоки в файлы и в другие программы. Так можно можно обрабатывать данные с помощью пайплайнов из разнородных частей. \n",
    "\n",
    "Потоки ввода-вывода доступны в `bash` и `powershell` под идентификаторами  0, 1, 2 (`stdin`, `stdout` и `stderr` соответственно).\n",
    "\n",
    "1. **Перенаправление вывода с помощью команд `'>'` и `'>>'`.**<br>\n",
    "Запись `[n]>file_name` означает, что теперь файловый дескриптор под номером `n` указывает в файл `file_name`. Номер `n` можно не указывать (поэтому он взят в квадратные скобки). Если `n` не указан, то будет перенаправлен стандартный вывод `stdout`. Попробуйте\n",
    "```bash\n",
    "echo \"test stdout redirection\" >out  # echo предназначена для демонстрации текста\n",
    "```\n",
    "В результате будет создан файл <font color=green>out</font> и в нем окажется соответсвующий текст. Вывести содержимое файла можно с помощью\n",
    "```bash\n",
    "cat out  # cat объединяет несолько файлов и показывает то, что получилось\n",
    "```\n",
    "В отдельный файл можно на править сообщения об ошибках.\n",
    "```bash\n",
    "echo \"raise EOFError\" >eoferror.py  # создаем скрипт, который будет поднимать исключение о конце файла\n",
    "python3 eoferror.py                 \n",
    "python3 eoferror.py 2>errors        # теперь перенаправляем ошибки в файл errors\n",
    "cat errors\n",
    "```\n",
    "Также можно полностью избавиться от сообщений об ошибках.\n",
    "```bash\n",
    "python3 eoferror.py 2>/dev/null  # /dev/null специальное устройство, которое выбрасывает то, что поступает на вход\n",
    "```\n",
    "**Важно!** команда `'>'` удаляет исходное содержимое файла, в который осуществляется запись. Если требуется дописать результат в конец файла, пользуйтесь `'>>'`.\n",
    "\n",
    "- **Перенаправление ввода с помощью команды `'<'`.**<br>\n",
    "Запись `<file_name` означает, что вместо того, чтобы считывать входные данные из консоли, программа будет их брать из файла `file_name`. Привести яркий пример использования такой конструкции с известными утилит UNIX сложно, поэтому мы сами создадим программу для демонстрации перенаправления потока ввода.\n",
    "```bash\n",
    "echo \"print(int(input())**2)\" >sqr.py  # скрипт для возведения целого числа в квадрат\n",
    "python3 sqr.py                         # протестируйте программу\n",
    "echo 10 >sqr_input_data                # помещаем входные данные для программы в файл\n",
    "python3 sqr.py <sqr_input_data         # Передаем скрипту данные из файла\n",
    "```\n",
    "\n",
    "- **Туннель (pipe) `'|'`.**<br>\n",
    "Наиболее популярный инструмент для управления потоками ввода-вывода. В конструкции \n",
    "```bash\n",
    "command1 | command2\n",
    "```\n",
    "`'|'` соединяет `stdout` первой комманды с `stdin` второй команды.<br><br>\n",
    "**Примеры:**\n",
    " ```bash\n",
    " ls -l | head --lines=3  # Утилита head возвращает начало файла, который подан ей на вход. В данном случае - первые 3 строки результата работы 'ls -l'\n",
    " ```\n",
    "Другой пример - сортировка поступающих на вход строк.\n",
    "```bash\n",
    "echo $'Егор\\nВасилий\\nАнна' >names.txt\n",
    "cat names.txt | sort\n",
    "```\n",
    "\n",
    "- **Копирование (дуплицирование) потока с помощью команды n1>&n2.**<br>\n",
    "С помощью `n1>&n2` файловый дескриптор `n1` делается копией файлового дескриптора `n2`. Копирование потока можно использовать, если требуется одновременно показать результат работы программы в консоли и записать в файл. Само разделение потока производиться с помощью команды [`tee`](https://en.wikipedia.org/wiki/Tee_(command)), однако чтобы ошибки также попали в логи, надо объединить `stderr` с `stdout`.\n",
    "```bash\n",
    "python3 my_experiment.py 2>&1 | tee log.txt\n",
    "```\n",
    "В результате логи выполняемых вычислений будут не только показаны на экране, но и записаны в файл `log.txt`.<br><br>\n",
    "Другой пример - фильтрация результатов поиска файлов утилитой `find`. При поиске файлов от корневого каталога в Linux Ubuntu пользователь может получать много сообщений об ошибках типа \"Отказано в доступе\". Чтобы исключить строки с сообщениями об ошибке, нужно отобрать строки, которые не содержат текст \"Permission denied\". Утилита `grep` предназначена для поиска текста в файлах, но с ключом `-v` можно наоборот отобрать те строки, которые не содержат \"Permission denied\".\n",
    "```bash\n",
    "find / -name my_template 2>&1 | grep -v \"Permission denied\"\n",
    "```\n",
    "\n",
    "### Замечание 1\n",
    "\n",
    "В инструкциях `bash` и  `powershell` можно  использовать несколько команд для настройки потоков. Они выполняются слева направо **до** того, как запускается основная программа.<br>\n",
    "**Примеры:**\n",
    "```bash\n",
    "echo \"print(\\\"Hello, I am eoferror.py\\\");raise EOFError\" >eoferror.py\n",
    "python3 eoferror.py >out 2>errors\n",
    "cat out\n",
    "cat errors\n",
    "```\n",
    "Чуть более сложный пример. И `stdout` и `stderr` отбрасываются.\n",
    "```bash\n",
    "echo \"print(\\\"Hello, I am eoferror.py\\\");raise EOFError\" >eoferror.py\n",
    "python3 eoferror.py >/dev/null 2>&1  # сначала stdout направляется на нулевое устройство, а затем stderr копируется с stdout и тем самым тоже направляется на нулевое устройство\n",
    "```\n",
    "\n",
    "### Замечание 2\n",
    "Перенаправление сбрасывается после выполнения команды, и все потоки снова указывают на консоль.\n",
    " \n",
    "### Упражнение 5. Печать в stderr\n",
    "\n",
    "Используя модуль [platform](https://docs.python.org/3/library/platform.html), запишите в файл <font color=green>system.txt</font> название операционной системы и в следующей строке ее версию (`platform.system()` и `platform.release()`). Если файл <font color=green>system.txt</font>, программа должна печатать в stderr строку \"WARNING: file system.txt already exists and will be overwritten\" и создавать новый файл вместо старого.\n",
    "\n",
    "### Упражнение 6. Пайплайн\n",
    "\n",
    "Напишите 3 скрипта: <font color=green>choose_digits.py</font>, <font color=green>choose_odd.py</font>, <font color=green>sqr.py</font>. Первый и второй должны, пока на вход не поступит пустая строка, проверять соответсвенно (1)состоит ли строка из одних только цифр (`str.isdigit()`) и (2)является ли строка нечетным числом. Если строка прошла проверку, она должна печататься в `stdout`. Скрипт <font color=green>sqr.py</font> должен возводить поступившие на числа в квадрат и сразу печатать их в `stdout`.\n",
    "\n",
    "Считайте во входных данных нет целых чисел с ведущими нулями. В скрипте <font color=green>choose_odd.py</font> проверке на то, что в строку входят только цифры не должна выполняться.\n",
    "\n",
    "Скрипты должны корректно работать в пайплайне.\n",
    "```bash\n",
    "python3 choose_digits.py | python3 choose_odd.py | python3 sqr.py\n",
    "```\n",
    "Для этого необходимо, чтобы первые 2 скрипта перед завершением печатали пустые строки.\n",
    "\n",
    "\n",
    "### Упражнение 7. Чтение из файла и запись в файл\n",
    "\n",
    "Подготовьте входной файл <font color=green>input.txt</font> для пайплайна из упражнения 6 и составьте такую команду для консоли, чтобы чтение строк производилось из файла <font color=green>input.txt</font>, а запись результатов работы осуществлялась в файл <font color=green>output.txt</font>."
   ]
  }
 ],
 "metadata": {
  "kernelspec": {
   "display_name": "Python 3",
   "language": "python",
   "name": "python3"
  },
  "language_info": {
   "codemirror_mode": {
    "name": "ipython",
    "version": 3
   },
   "file_extension": ".py",
   "mimetype": "text/x-python",
   "name": "python",
   "nbconvert_exporter": "python",
   "pygments_lexer": "ipython3",
   "version": "3.7.1"
  }
 },
 "nbformat": 4,
 "nbformat_minor": 2
}
