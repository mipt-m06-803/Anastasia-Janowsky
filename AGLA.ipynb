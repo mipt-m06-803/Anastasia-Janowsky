{
 "cells": [
  {
   "cell_type": "markdown",
   "metadata": {},
   "source": [
    "# <font color = green> Affine gap local alignment </font>\n",
    "\n",
    "\n",
    "Локальное выравнивание - это выравнивание последовательностей, не гомологичных по всей длине.\n",
    "\n",
    "На вход подаются две последовательности (в данном решении не будет рассматриваться множественное выравнивание, во всяком случае, пока), а также целочисленные значения штрафов, которые будут начисляться за несовпадение (-s), открытие разрыва (-d_open) и продолжение разрыва (-d_ext), и значение очков за совпадения (+m).\n",
    "\n",
    "\n",
    "<font size = 3> Вес выравнивания (Score) оценивается следующим образом: </font>\n",
    "\n",
    "\n",
    "<font size = 2> (Количество совпадений)*m - (число несовпадений)*s - (разрывы)*d\n",
    "\n",
    "\n",
    "Для локального совпадения выступающие концы не рассматриваются как пропуски (делеции)\n",
    "\n",
    "\n",
    "<font size = 2> Цель данного алгоритма - найти подстроки, имеющие максимальный вес выравнивания"
   ]
  },
  {
   "cell_type": "code",
   "execution_count": 26,
   "metadata": {
    "scrolled": true
   },
   "outputs": [
    {
     "name": "stdout",
     "output_type": "stream",
     "text": [
      "tgttacgg\n",
      "ggttgacta\n",
      "3\n",
      "3\n",
      "2\n",
      "1\n",
      "13 с координатами 6, 7\n",
      "13\n",
      "10\n",
      "7\n",
      "9\n",
      "6\n",
      "3\n",
      "0\n"
     ]
    }
   ],
   "source": [
    "S1 = input()\n",
    "S2 = input()\n",
    "n, m = len(S1), len(S2)\n",
    "\n",
    "match = int(input()) #очки, прибавляемые за совпадения символов\n",
    "mismatch = int(input()) # штраф за несовпадение символов\n",
    "gap_open = int(input()) # штраф за открытие разрыва\n",
    "gap_ext = int(input()) # штраф за продолжение разрыва\n",
    "    \n",
    "def score(i, j):  #флаг True, если разрыв открыт\n",
    "    f1, f2, f3 = 0, 0, 0\n",
    "    flag = flags[i][j]\n",
    "    flag1 = flags[i][j-1]\n",
    "    flag2 = flags[i-1][j]\n",
    "    if S1[i] == S2[j]:\n",
    "        f1 = F[i-1][j-1] + match\n",
    "        if flag1 == True or flag2 == True:\n",
    "            flag = False\n",
    "    else:\n",
    "        f1 = F[i-1][j-1] - mismatch\n",
    "        if flag1 == False or flag2 == False:\n",
    "            f2 = F[i-1][j] - gap_open\n",
    "            f3 = F[i][j-1] - gap_open\n",
    "        else:\n",
    "            f2 = F[i-1][j] - gap_ext\n",
    "            f3 = F[i][j-1] - gap_ext\n",
    "    max_ = max(f1, f2, f3, 0)\n",
    "    if max_ == f2 or max_ == f3:\n",
    "        flag = True\n",
    "    return max_, flag\n",
    "    \n",
    "\n",
    "F = [[0]*(n+1) for i in range(m+1)] #создаем матрицу из 0\n",
    "\n",
    "flags = [[False]*(n+1) for i in range(m+1)] #создаем матрицу флагов гэпов: изначально ставим везде False\n",
    "\n",
    "for i in range(1, n): #заполняем матрицу замен\n",
    "    for j in range(1, m):\n",
    "        flag = flags[i][j]\n",
    "        F[i][j], flag = score(i, j)\n",
    "\n",
    "for l1 in F:    #конвертируем ячейки матрицы из чисел в строки\n",
    "    for l2 in range(len(l1)):\n",
    "        l1[l2] = str(l1[l2])\n",
    "        \n",
    "with open('agla_matrix.txt', 'w') as f:\n",
    "    for row in F:\n",
    "        f.write('\\t'.join(row) +'\\n')\n",
    "        \n",
    "#матрица есть, теперь нужен трейсбэк\n",
    "#для этого нужно найти максимальную ячейку в матрице, и далее двигаться от неё\n",
    "end = 0\n",
    "end_ind = [0, 0]\n",
    "for i in range(len(F)): #реализуем однопроходный алгоритм поиска максимума и его индексов\n",
    "    for j in range(len(F[i])):\n",
    "        F[i][j] = int(F[i][j]) #заодно и из элементов матрицы понаделаем чиселок\n",
    "        if F[i][j] > end:\n",
    "            end = F[i][j]\n",
    "            end_ind[0], end_ind[1] = i+1, j+1\n",
    "print('{} с координатами {}, {}'.format(end, end_ind[0], end_ind[1])) #нашли!\n",
    "\n",
    "S1_aligned = ''\n",
    "S2_aligned = '' #заводим строки, с помощью которых визуализируем выравнивание\n",
    "score_ = end #вес выравнивания\n",
    "while end != 0:\n",
    "   #выбираем из соседних трех ячеек ту, в которой максимальное количество очков\n",
    "    max_ = max(F[end_ind[0]-1][end_ind[1]-1], F[end_ind[0]-1][end_ind[1]], F[end_ind[0]][end_ind[1]-1])\n",
    "    if max_ == F[end_ind[0]-1][end_ind[1]-1]: #ячейка по диагонали\n",
    "        S1_aligned = S1_aligned + S1[end_ind[0]-1] #добавляем символы из первоначальной строк...\n",
    "        S2_aligned = S2_aligned + S2[end_ind[1]-1]\n",
    "        #и не забываем менять индекс, иначе улетим в бесконечный цикл\n",
    "        end_ind[0], end_ind[1] = end_ind[0]-1, end_ind[1]-1\n",
    "    elif max_ == F[end_ind[0]-1][end_ind[1]]: #ячейка сверху\n",
    "        S1_aligned = S1_aligned + '-'  #...или прочерк, если разрыв\n",
    "        S2_aligned = S2_aligned + S2[end_ind[1]-1]\n",
    "        end_ind[0] = end_ind[0]-1\n",
    "    elif max_ == F[end_ind[0]][end_ind[1]-1]:\n",
    "        S1_aligned = S1_aligned + S1[end_ind[0]-1]\n",
    "        S2_aligned = S2_aligned + '-'\n",
    "        end_ind[1] = end_ind[1] -1\n",
    "    end = max_\n",
    "    print(end)\n",
    "    \n",
    "S1_aligned = S1_aligned[::-1]\n",
    "S2_aligned = S2_aligned[::-1] #отзеркаливаем, т.к. шли справа налево\n",
    "S1_aligned = S1_aligned[1::] #отрезаем граничный нуклеотид\n",
    "S2_aligned = S2_aligned[1::]\n",
    "    \n",
    "with open('alignment.txt', 'w', encoding='utf-8') as f:\n",
    "    f.write(' '.join(S1_aligned) +'\\n')\n",
    "    f.write(' '.join(S2_aligned) +'\\n')\n",
    "    f.write('Alignment score = {}'.format(score_) +'\\n')"
   ]
  },
  {
   "cell_type": "markdown",
   "metadata": {},
   "source": [
    "tgttacgg\n",
    "ggttgacta\n",
    "3\n",
    "3\n",
    "3\n",
    "2"
   ]
  },
  {
   "cell_type": "code",
   "execution_count": 29,
   "metadata": {
    "scrolled": true
   },
   "outputs": [
    {
     "name": "stdout",
     "output_type": "stream",
     "text": [
      "111111\n"
     ]
    }
   ],
   "source": [
    "s = '01111110'\n",
    "s = s[1:-1]\n",
    "print(s)"
   ]
  },
  {
   "cell_type": "code",
   "execution_count": 11,
   "metadata": {},
   "outputs": [
    {
     "name": "stdout",
     "output_type": "stream",
     "text": [
      "18\n"
     ]
    }
   ],
   "source": [
    "#Вывести сумму цифр числа\n",
    "\n",
    "def sum_(n):\n",
    "    if n < 10:\n",
    "        return n\n",
    "    else:\n",
    "        return n%10 + sum_(n//10)\n",
    "    \n",
    "print(sum_(99))"
   ]
  },
  {
   "cell_type": "code",
   "execution_count": 1,
   "metadata": {},
   "outputs": [
    {
     "ename": "RecursionError",
     "evalue": "maximum recursion depth exceeded",
     "output_type": "error",
     "traceback": [
      "\u001b[1;31m---------------------------------------------------------------------------\u001b[0m",
      "\u001b[1;31mRecursionError\u001b[0m                            Traceback (most recent call last)",
      "\u001b[1;32m<ipython-input-1-748aa82c6f07>\u001b[0m in \u001b[0;36m<module>\u001b[1;34m()\u001b[0m\n\u001b[0;32m      7\u001b[0m     \u001b[1;32mreturn\u001b[0m \u001b[0mr\u001b[0m\u001b[1;33m\u001b[0m\u001b[0m\n\u001b[0;32m      8\u001b[0m \u001b[1;33m\u001b[0m\u001b[0m\n\u001b[1;32m----> 9\u001b[1;33m \u001b[0mf\u001b[0m\u001b[1;33m(\u001b[0m\u001b[0mn\u001b[0m\u001b[1;33m)\u001b[0m\u001b[1;33m\u001b[0m\u001b[0m\n\u001b[0m",
      "\u001b[1;32m<ipython-input-1-748aa82c6f07>\u001b[0m in \u001b[0;36mf\u001b[1;34m(n)\u001b[0m\n\u001b[0;32m      4\u001b[0m     \u001b[1;32mwhile\u001b[0m \u001b[0mn\u001b[0m\u001b[1;33m:\u001b[0m\u001b[1;33m\u001b[0m\u001b[0m\n\u001b[0;32m      5\u001b[0m         \u001b[0mn\u001b[0m \u001b[1;33m=\u001b[0m \u001b[1;36m10\u001b[0m\u001b[1;33m**\u001b[0m\u001b[1;33m(\u001b[0m\u001b[0mn\u001b[0m\u001b[1;33m%\u001b[0m\u001b[1;36m10\u001b[0m\u001b[1;33m)\u001b[0m \u001b[1;33m*\u001b[0m \u001b[1;33m(\u001b[0m\u001b[0mn\u001b[0m\u001b[1;33m%\u001b[0m\u001b[1;36m10\u001b[0m\u001b[1;33m)\u001b[0m\u001b[1;33m\u001b[0m\u001b[0m\n\u001b[1;32m----> 6\u001b[1;33m         \u001b[0mr\u001b[0m \u001b[1;33m=\u001b[0m \u001b[0mn\u001b[0m \u001b[1;33m+\u001b[0m \u001b[0mf\u001b[0m\u001b[1;33m(\u001b[0m\u001b[0mn\u001b[0m\u001b[1;33m-\u001b[0m\u001b[1;36m1\u001b[0m\u001b[1;33m)\u001b[0m\u001b[1;33m\u001b[0m\u001b[0m\n\u001b[0m\u001b[0;32m      7\u001b[0m     \u001b[1;32mreturn\u001b[0m \u001b[0mr\u001b[0m\u001b[1;33m\u001b[0m\u001b[0m\n\u001b[0;32m      8\u001b[0m \u001b[1;33m\u001b[0m\u001b[0m\n",
      "... last 1 frames repeated, from the frame below ...\n",
      "\u001b[1;32m<ipython-input-1-748aa82c6f07>\u001b[0m in \u001b[0;36mf\u001b[1;34m(n)\u001b[0m\n\u001b[0;32m      4\u001b[0m     \u001b[1;32mwhile\u001b[0m \u001b[0mn\u001b[0m\u001b[1;33m:\u001b[0m\u001b[1;33m\u001b[0m\u001b[0m\n\u001b[0;32m      5\u001b[0m         \u001b[0mn\u001b[0m \u001b[1;33m=\u001b[0m \u001b[1;36m10\u001b[0m\u001b[1;33m**\u001b[0m\u001b[1;33m(\u001b[0m\u001b[0mn\u001b[0m\u001b[1;33m%\u001b[0m\u001b[1;36m10\u001b[0m\u001b[1;33m)\u001b[0m \u001b[1;33m*\u001b[0m \u001b[1;33m(\u001b[0m\u001b[0mn\u001b[0m\u001b[1;33m%\u001b[0m\u001b[1;36m10\u001b[0m\u001b[1;33m)\u001b[0m\u001b[1;33m\u001b[0m\u001b[0m\n\u001b[1;32m----> 6\u001b[1;33m         \u001b[0mr\u001b[0m \u001b[1;33m=\u001b[0m \u001b[0mn\u001b[0m \u001b[1;33m+\u001b[0m \u001b[0mf\u001b[0m\u001b[1;33m(\u001b[0m\u001b[0mn\u001b[0m\u001b[1;33m-\u001b[0m\u001b[1;36m1\u001b[0m\u001b[1;33m)\u001b[0m\u001b[1;33m\u001b[0m\u001b[0m\n\u001b[0m\u001b[0;32m      7\u001b[0m     \u001b[1;32mreturn\u001b[0m \u001b[0mr\u001b[0m\u001b[1;33m\u001b[0m\u001b[0m\n\u001b[0;32m      8\u001b[0m \u001b[1;33m\u001b[0m\u001b[0m\n",
      "\u001b[1;31mRecursionError\u001b[0m: maximum recursion depth exceeded"
     ]
    }
   ],
   "source": [
    "n = 12345\n",
    "\n",
    "def f(n, r):\n",
    "    \n",
    "    while n:\n",
    "        r = 10**(n%10) * (n%10)\n",
    "        r = n + f(n-1)\n",
    "    return r\n",
    "\n",
    "f(n)"
   ]
  },
  {
   "cell_type": "code",
   "execution_count": 2,
   "metadata": {},
   "outputs": [
    {
     "name": "stdout",
     "output_type": "stream",
     "text": [
      "1\n",
      "4\n",
      "9\n"
     ]
    }
   ],
   "source": [
    "def transpose(l):\n",
    "    z = zip(*l)\n",
    "    lT = [list(t) for t in zip(*l)]\n",
    "    return lT\n",
    "\n",
    "for i in F: #зеркалим строки\n",
    "    print(i)\n",
    "    i = i[::-1] #!!!тут зеркалятся\n",
    "    print(i)\n",
    "\n",
    "#F = transpose(F)\n",
    "\n",
    "#for j in F: #зеркалим столбцы\n",
    "   # j = j[::-1]\n",
    "\n",
    "#F = transpose(F) #получаем отзеркаленную матрицу\n",
    "\n",
    "with open('agla_transpose_matrix.txt', 'w') as f:\n",
    "    for row in F: #!!! а тут записываются не отзекаленные :<\n",
    "        f.write('\\t'.join(row) + '\\n')"
   ]
  },
  {
   "cell_type": "code",
   "execution_count": 81,
   "metadata": {},
   "outputs": [
    {
     "data": {
      "text/plain": [
       "4.0"
      ]
     },
     "execution_count": 81,
     "metadata": {},
     "output_type": "execute_result"
    }
   ],
   "source": [
    "import numpy as np\n",
    "\n",
    "def smith_waterman(a: str, b: str, alignment_score: float = 1, gap_cost: float = 1) -> float:\n",
    "  # H holds the alignment score at each point, computed incrementally\n",
    "    H = np.zeros((len(a) + 1, len(b) + 1))\n",
    "    for i in range(1, len(a) + 1):\n",
    "        for j in range(1, len(b) + 1):\n",
    "      # The score for substituting the letter a[i-1] for b[j-1]. Generally low\n",
    "      # for mismatch, high for match.\n",
    "            match = H[i-1,j-1] + (alignment_score if a[i-1] == b[j-1] else 0)\n",
    "      # The scores for for introducing extra letters in one of the strings (or\n",
    "      # by symmetry, deleting them from the other).\n",
    "            delete = H[1:i,j].max() - gap_cost if i > 1 else 0\n",
    "            insert = H[i,1:j].max() - gap_cost if j > 1 else 0\n",
    "            H[i,j] = max(match, delete, insert, 0)\n",
    "  # The highest score is the best local alignment.\n",
    "  # For our purposes, we don't actually care _what_ the alignment was, just how\n",
    "  # aligned the two strings were.\n",
    "    return H.max()\n",
    "\n",
    "a = 'tgttacgg'\n",
    "b = 'ggttgacta'\n",
    "\n",
    "smith_waterman(a, b)"
   ]
  },
  {
   "cell_type": "code",
   "execution_count": null,
   "metadata": {},
   "outputs": [],
   "source": []
  }
 ],
 "metadata": {
  "kernelspec": {
   "display_name": "Python 3",
   "language": "python",
   "name": "python3"
  },
  "language_info": {
   "codemirror_mode": {
    "name": "ipython",
    "version": 3
   },
   "file_extension": ".py",
   "mimetype": "text/x-python",
   "name": "python",
   "nbconvert_exporter": "python",
   "pygments_lexer": "ipython3",
   "version": "3.7.0"
  }
 },
 "nbformat": 4,
 "nbformat_minor": 2
}
